{
  "nbformat": 4,
  "nbformat_minor": 0,
  "metadata": {
    "colab": {
      "provenance": [],
      "machine_shape": "hm",
      "gpuType": "A100"
    },
    "kernelspec": {
      "name": "python3",
      "display_name": "Python 3"
    },
    "language_info": {
      "name": "python"
    }
  },
  "cells": [
    {
      "cell_type": "code",
      "execution_count": 4,
      "metadata": {
        "id": "N7QTzgKegf55"
      },
      "outputs": [],
      "source": [
        "import os\n",
        "\n",
        "os.makedirs(\"rice_ml\", exist_ok=True)\n",
        "\n",
        "with open(\"rice_ml/__init__.py\", \"w\") as f:\n",
        "    f.write(\"# rice_ml package\")"
      ]
    },
    {
      "cell_type": "code",
      "source": [
        "logistic_code = \"\"\"\n",
        "import numpy as np\n",
        "\n",
        "class LogisticRegression:\n",
        "    def __init__(self, lr=0.01, n_iter=1000):\n",
        "        self.lr = lr\n",
        "        self.n_iter = n_iter\n",
        "        self.weights = None\n",
        "        self.bias = None\n",
        "\n",
        "    def sigmoid(self, z):\n",
        "        return 1 / (1 + np.exp(-z))\n",
        "\n",
        "    def fit(self, X, y):\n",
        "        n_samples, n_features = X.shape\n",
        "        self.weights = np.zeros(n_features)\n",
        "        self.bias = 0\n",
        "        for _ in range(self.n_iter):\n",
        "            linear = np.dot(X, self.weights) + self.bias\n",
        "            y_pred = self.sigmoid(linear)\n",
        "            dw = np.dot(X.T, (y_pred - y)) / n_samples\n",
        "            db = np.sum(y_pred - y) / n_samples\n",
        "            self.weights -= self.lr * dw\n",
        "            self.bias -= self.lr * db\n",
        "\n",
        "    def predict(self, X):\n",
        "        linear = np.dot(X, self.weights) + self.bias\n",
        "        y_pred = self.sigmoid(linear)\n",
        "        return np.where(y_pred >= 0.5, 1, 0)\n",
        "\"\"\"\n",
        "with open(\"rice_ml/logistic_regression.py\", \"w\") as f:\n",
        "    f.write(logistic_code)\n"
      ],
      "metadata": {
        "id": "wIEURbIfggbH"
      },
      "execution_count": 2,
      "outputs": []
    },
    {
      "cell_type": "code",
      "source": [
        "from rice_ml.logistic_regression import LogisticRegression\n",
        "import numpy as np\n",
        "\n",
        "X = np.array([[0.1], [0.3], [0.5], [0.9]])\n",
        "y = np.array([0, 0, 1, 1])\n",
        "\n",
        "model = LogisticRegression()\n",
        "model.fit(X, y)\n",
        "preds = model.predict(X)\n",
        "print(\"Predictions:\", preds)\n"
      ],
      "metadata": {
        "colab": {
          "base_uri": "https://localhost:8080/"
        },
        "id": "8_zMnyLYggfq",
        "outputId": "bd0f193c-0421-4e35-ba31-37fb0b2db6e4"
      },
      "execution_count": 3,
      "outputs": [
        {
          "output_type": "stream",
          "name": "stdout",
          "text": [
            "Predictions: [0 1 1 1]\n"
          ]
        }
      ]
    },
    {
      "cell_type": "code",
      "source": [
        "\n",
        "!zip -r rice_ml.zip rice_ml\n"
      ],
      "metadata": {
        "colab": {
          "base_uri": "https://localhost:8080/"
        },
        "id": "sASXsxmpggiH",
        "outputId": "5774a807-3ab2-413a-a690-36bddc4cdca1"
      },
      "execution_count": 4,
      "outputs": [
        {
          "output_type": "stream",
          "name": "stdout",
          "text": [
            "  adding: rice_ml/ (stored 0%)\n",
            "  adding: rice_ml/__pycache__/ (stored 0%)\n",
            "  adding: rice_ml/__pycache__/__init__.cpython-311.pyc (deflated 25%)\n",
            "  adding: rice_ml/__pycache__/logistic_regression.cpython-311.pyc (deflated 48%)\n",
            "  adding: rice_ml/__init__.py (stored 0%)\n",
            "  adding: rice_ml/logistic_regression.py (deflated 61%)\n"
          ]
        }
      ]
    },
    {
      "cell_type": "code",
      "source": [
        "from google.colab import files\n",
        "files.download(\"rice_ml.zip\")\n"
      ],
      "metadata": {
        "colab": {
          "base_uri": "https://localhost:8080/",
          "height": 17
        },
        "id": "zUQlonniggl7",
        "outputId": "54214b53-932f-4dfe-cce3-94ac83a5cc24"
      },
      "execution_count": 5,
      "outputs": [
        {
          "output_type": "display_data",
          "data": {
            "text/plain": [
              "<IPython.core.display.Javascript object>"
            ],
            "application/javascript": [
              "\n",
              "    async function download(id, filename, size) {\n",
              "      if (!google.colab.kernel.accessAllowed) {\n",
              "        return;\n",
              "      }\n",
              "      const div = document.createElement('div');\n",
              "      const label = document.createElement('label');\n",
              "      label.textContent = `Downloading \"${filename}\": `;\n",
              "      div.appendChild(label);\n",
              "      const progress = document.createElement('progress');\n",
              "      progress.max = size;\n",
              "      div.appendChild(progress);\n",
              "      document.body.appendChild(div);\n",
              "\n",
              "      const buffers = [];\n",
              "      let downloaded = 0;\n",
              "\n",
              "      const channel = await google.colab.kernel.comms.open(id);\n",
              "      // Send a message to notify the kernel that we're ready.\n",
              "      channel.send({})\n",
              "\n",
              "      for await (const message of channel.messages) {\n",
              "        // Send a message to notify the kernel that we're ready.\n",
              "        channel.send({})\n",
              "        if (message.buffers) {\n",
              "          for (const buffer of message.buffers) {\n",
              "            buffers.push(buffer);\n",
              "            downloaded += buffer.byteLength;\n",
              "            progress.value = downloaded;\n",
              "          }\n",
              "        }\n",
              "      }\n",
              "      const blob = new Blob(buffers, {type: 'application/binary'});\n",
              "      const a = document.createElement('a');\n",
              "      a.href = window.URL.createObjectURL(blob);\n",
              "      a.download = filename;\n",
              "      div.appendChild(a);\n",
              "      a.click();\n",
              "      div.remove();\n",
              "    }\n",
              "  "
            ]
          },
          "metadata": {}
        },
        {
          "output_type": "display_data",
          "data": {
            "text/plain": [
              "<IPython.core.display.Javascript object>"
            ],
            "application/javascript": [
              "download(\"download_2bc69362-e63c-4880-9142-51d6f78e385a\", \"rice_ml.zip\", 2803)"
            ]
          },
          "metadata": {}
        }
      ]
    },
    {
      "cell_type": "code",
      "source": [
        "\n",
        "import os\n",
        "os.makedirs(\"rice_ml\", exist_ok=True)\n",
        "\n",
        "\n",
        "knn_code = \"\"\"\n",
        "import numpy as np\n",
        "from collections import Counter\n",
        "\n",
        "class KNearestNeighbors:\n",
        "    def __init__(self, k=3):\n",
        "        self.k = k\n",
        "\n",
        "    def fit(self, X, y):\n",
        "        self.X_train = X\n",
        "        self.y_train = y\n",
        "\n",
        "    def predict(self, X):\n",
        "        return np.array([self._predict(x) for x in X])\n",
        "\n",
        "    def _predict(self, x):\n",
        "        distances = [np.linalg.norm(x - x_train) for x_train in self.X_train]\n",
        "        k_indices = np.argsort(distances)[:self.k]\n",
        "        k_nearest_labels = [self.y_train[i] for i in k_indices]\n",
        "        return Counter(k_nearest_labels).most_common(1)[0][0]\n",
        "\"\"\"\n",
        "with open(\"rice_ml/knn.py\", \"w\") as f:\n",
        "    f.write(knn_code)\n"
      ],
      "metadata": {
        "id": "YQHOeGVjggoO"
      },
      "execution_count": 6,
      "outputs": []
    },
    {
      "cell_type": "code",
      "source": [
        "from rice_ml.knn import KNearestNeighbors\n",
        "import numpy as np\n",
        "\n",
        "\n",
        "X_train = np.array([[0], [1], [2], [3]])\n",
        "y_train = np.array([0, 0, 1, 1])\n",
        "\n",
        "X_test = np.array([[1.1], [2.9]])\n",
        "\n",
        "knn = KNearestNeighbors(k=3)\n",
        "knn.fit(X_train, y_train)\n",
        "y_pred = knn.predict(X_test)\n",
        "\n",
        "print(\"Predictions:\", y_pred)\n"
      ],
      "metadata": {
        "colab": {
          "base_uri": "https://localhost:8080/"
        },
        "id": "t5eg9n7drRix",
        "outputId": "c84800f7-8994-46a4-ce81-0fb311af29cd"
      },
      "execution_count": 7,
      "outputs": [
        {
          "output_type": "stream",
          "name": "stdout",
          "text": [
            "Predictions: [0 1]\n"
          ]
        }
      ]
    },
    {
      "cell_type": "code",
      "source": [
        "\n",
        "lr_code = \"\"\"\n",
        "import numpy as np\n",
        "\n",
        "class LinearRegression:\n",
        "    def __init__(self):\n",
        "        self.weights = None\n",
        "        self.bias = None\n",
        "\n",
        "    def fit(self, X, y):\n",
        "        n_samples, n_features = X.shape\n",
        "        X_b = np.c_[np.ones((n_samples, 1)), X]\n",
        "        theta_best = np.linalg.inv(X_b.T.dot(X_b)).dot(X_b.T).dot(y)\n",
        "        self.bias = theta_best[0]\n",
        "        self.weights = theta_best[1:]\n",
        "\n",
        "    def predict(self, X):\n",
        "        return np.dot(X, self.weights) + self.bias\n",
        "\"\"\"\n",
        "with open(\"rice_ml/linear_regression.py\", \"w\") as f:\n",
        "    f.write(lr_code)\n"
      ],
      "metadata": {
        "id": "YpO9xIWtrRlE"
      },
      "execution_count": 8,
      "outputs": []
    },
    {
      "cell_type": "code",
      "source": [
        "from google.colab import drive\n",
        "drive.mount('/content/drive')"
      ],
      "metadata": {
        "colab": {
          "base_uri": "https://localhost:8080/"
        },
        "id": "tcyg0J2drRnZ",
        "outputId": "d0146055-7090-4f77-8373-edf1a023247d"
      },
      "execution_count": 7,
      "outputs": [
        {
          "output_type": "stream",
          "name": "stdout",
          "text": [
            "Mounted at /content/drive\n"
          ]
        }
      ]
    },
    {
      "cell_type": "code",
      "source": [
        "import pandas as pd\n",
        "\n",
        "\n",
        "csv_path = \"/content/drive/MyDrive/Colab Notebooks/ML_Rice_2025_Final_Project/uber.csv\"\n",
        "\n",
        "df = pd.read_csv(csv_path)\n",
        "print(\"数据加载成功，前几行如下：\")\n",
        "df.head()\n"
      ],
      "metadata": {
        "colab": {
          "base_uri": "https://localhost:8080/",
          "height": 224
        },
        "id": "F1DaupVBrRpo",
        "outputId": "38888ee9-8cfc-4396-8907-e963f9bf6943"
      },
      "execution_count": 8,
      "outputs": [
        {
          "output_type": "stream",
          "name": "stdout",
          "text": [
            "数据加载成功，前几行如下：\n"
          ]
        },
        {
          "output_type": "execute_result",
          "data": {
            "text/plain": [
              "   Unnamed: 0                            key  fare_amount  \\\n",
              "0    24238194    2015-05-07 19:52:06.0000003          7.5   \n",
              "1    27835199    2009-07-17 20:04:56.0000002          7.7   \n",
              "2    44984355   2009-08-24 21:45:00.00000061         12.9   \n",
              "3    25894730    2009-06-26 08:22:21.0000001          5.3   \n",
              "4    17610152  2014-08-28 17:47:00.000000188         16.0   \n",
              "\n",
              "           pickup_datetime  pickup_longitude  pickup_latitude  \\\n",
              "0  2015-05-07 19:52:06 UTC        -73.999817        40.738354   \n",
              "1  2009-07-17 20:04:56 UTC        -73.994355        40.728225   \n",
              "2  2009-08-24 21:45:00 UTC        -74.005043        40.740770   \n",
              "3  2009-06-26 08:22:21 UTC        -73.976124        40.790844   \n",
              "4  2014-08-28 17:47:00 UTC        -73.925023        40.744085   \n",
              "\n",
              "   dropoff_longitude  dropoff_latitude  passenger_count  \n",
              "0         -73.999512         40.723217                1  \n",
              "1         -73.994710         40.750325                1  \n",
              "2         -73.962565         40.772647                1  \n",
              "3         -73.965316         40.803349                3  \n",
              "4         -73.973082         40.761247                5  "
            ],
            "text/html": [
              "\n",
              "  <div id=\"df-c572e555-860c-41fc-a76b-4267ad40a491\" class=\"colab-df-container\">\n",
              "    <div>\n",
              "<style scoped>\n",
              "    .dataframe tbody tr th:only-of-type {\n",
              "        vertical-align: middle;\n",
              "    }\n",
              "\n",
              "    .dataframe tbody tr th {\n",
              "        vertical-align: top;\n",
              "    }\n",
              "\n",
              "    .dataframe thead th {\n",
              "        text-align: right;\n",
              "    }\n",
              "</style>\n",
              "<table border=\"1\" class=\"dataframe\">\n",
              "  <thead>\n",
              "    <tr style=\"text-align: right;\">\n",
              "      <th></th>\n",
              "      <th>Unnamed: 0</th>\n",
              "      <th>key</th>\n",
              "      <th>fare_amount</th>\n",
              "      <th>pickup_datetime</th>\n",
              "      <th>pickup_longitude</th>\n",
              "      <th>pickup_latitude</th>\n",
              "      <th>dropoff_longitude</th>\n",
              "      <th>dropoff_latitude</th>\n",
              "      <th>passenger_count</th>\n",
              "    </tr>\n",
              "  </thead>\n",
              "  <tbody>\n",
              "    <tr>\n",
              "      <th>0</th>\n",
              "      <td>24238194</td>\n",
              "      <td>2015-05-07 19:52:06.0000003</td>\n",
              "      <td>7.5</td>\n",
              "      <td>2015-05-07 19:52:06 UTC</td>\n",
              "      <td>-73.999817</td>\n",
              "      <td>40.738354</td>\n",
              "      <td>-73.999512</td>\n",
              "      <td>40.723217</td>\n",
              "      <td>1</td>\n",
              "    </tr>\n",
              "    <tr>\n",
              "      <th>1</th>\n",
              "      <td>27835199</td>\n",
              "      <td>2009-07-17 20:04:56.0000002</td>\n",
              "      <td>7.7</td>\n",
              "      <td>2009-07-17 20:04:56 UTC</td>\n",
              "      <td>-73.994355</td>\n",
              "      <td>40.728225</td>\n",
              "      <td>-73.994710</td>\n",
              "      <td>40.750325</td>\n",
              "      <td>1</td>\n",
              "    </tr>\n",
              "    <tr>\n",
              "      <th>2</th>\n",
              "      <td>44984355</td>\n",
              "      <td>2009-08-24 21:45:00.00000061</td>\n",
              "      <td>12.9</td>\n",
              "      <td>2009-08-24 21:45:00 UTC</td>\n",
              "      <td>-74.005043</td>\n",
              "      <td>40.740770</td>\n",
              "      <td>-73.962565</td>\n",
              "      <td>40.772647</td>\n",
              "      <td>1</td>\n",
              "    </tr>\n",
              "    <tr>\n",
              "      <th>3</th>\n",
              "      <td>25894730</td>\n",
              "      <td>2009-06-26 08:22:21.0000001</td>\n",
              "      <td>5.3</td>\n",
              "      <td>2009-06-26 08:22:21 UTC</td>\n",
              "      <td>-73.976124</td>\n",
              "      <td>40.790844</td>\n",
              "      <td>-73.965316</td>\n",
              "      <td>40.803349</td>\n",
              "      <td>3</td>\n",
              "    </tr>\n",
              "    <tr>\n",
              "      <th>4</th>\n",
              "      <td>17610152</td>\n",
              "      <td>2014-08-28 17:47:00.000000188</td>\n",
              "      <td>16.0</td>\n",
              "      <td>2014-08-28 17:47:00 UTC</td>\n",
              "      <td>-73.925023</td>\n",
              "      <td>40.744085</td>\n",
              "      <td>-73.973082</td>\n",
              "      <td>40.761247</td>\n",
              "      <td>5</td>\n",
              "    </tr>\n",
              "  </tbody>\n",
              "</table>\n",
              "</div>\n",
              "    <div class=\"colab-df-buttons\">\n",
              "\n",
              "  <div class=\"colab-df-container\">\n",
              "    <button class=\"colab-df-convert\" onclick=\"convertToInteractive('df-c572e555-860c-41fc-a76b-4267ad40a491')\"\n",
              "            title=\"Convert this dataframe to an interactive table.\"\n",
              "            style=\"display:none;\">\n",
              "\n",
              "  <svg xmlns=\"http://www.w3.org/2000/svg\" height=\"24px\" viewBox=\"0 -960 960 960\">\n",
              "    <path d=\"M120-120v-720h720v720H120Zm60-500h600v-160H180v160Zm220 220h160v-160H400v160Zm0 220h160v-160H400v160ZM180-400h160v-160H180v160Zm440 0h160v-160H620v160ZM180-180h160v-160H180v160Zm440 0h160v-160H620v160Z\"/>\n",
              "  </svg>\n",
              "    </button>\n",
              "\n",
              "  <style>\n",
              "    .colab-df-container {\n",
              "      display:flex;\n",
              "      gap: 12px;\n",
              "    }\n",
              "\n",
              "    .colab-df-convert {\n",
              "      background-color: #E8F0FE;\n",
              "      border: none;\n",
              "      border-radius: 50%;\n",
              "      cursor: pointer;\n",
              "      display: none;\n",
              "      fill: #1967D2;\n",
              "      height: 32px;\n",
              "      padding: 0 0 0 0;\n",
              "      width: 32px;\n",
              "    }\n",
              "\n",
              "    .colab-df-convert:hover {\n",
              "      background-color: #E2EBFA;\n",
              "      box-shadow: 0px 1px 2px rgba(60, 64, 67, 0.3), 0px 1px 3px 1px rgba(60, 64, 67, 0.15);\n",
              "      fill: #174EA6;\n",
              "    }\n",
              "\n",
              "    .colab-df-buttons div {\n",
              "      margin-bottom: 4px;\n",
              "    }\n",
              "\n",
              "    [theme=dark] .colab-df-convert {\n",
              "      background-color: #3B4455;\n",
              "      fill: #D2E3FC;\n",
              "    }\n",
              "\n",
              "    [theme=dark] .colab-df-convert:hover {\n",
              "      background-color: #434B5C;\n",
              "      box-shadow: 0px 1px 3px 1px rgba(0, 0, 0, 0.15);\n",
              "      filter: drop-shadow(0px 1px 2px rgba(0, 0, 0, 0.3));\n",
              "      fill: #FFFFFF;\n",
              "    }\n",
              "  </style>\n",
              "\n",
              "    <script>\n",
              "      const buttonEl =\n",
              "        document.querySelector('#df-c572e555-860c-41fc-a76b-4267ad40a491 button.colab-df-convert');\n",
              "      buttonEl.style.display =\n",
              "        google.colab.kernel.accessAllowed ? 'block' : 'none';\n",
              "\n",
              "      async function convertToInteractive(key) {\n",
              "        const element = document.querySelector('#df-c572e555-860c-41fc-a76b-4267ad40a491');\n",
              "        const dataTable =\n",
              "          await google.colab.kernel.invokeFunction('convertToInteractive',\n",
              "                                                    [key], {});\n",
              "        if (!dataTable) return;\n",
              "\n",
              "        const docLinkHtml = 'Like what you see? Visit the ' +\n",
              "          '<a target=\"_blank\" href=https://colab.research.google.com/notebooks/data_table.ipynb>data table notebook</a>'\n",
              "          + ' to learn more about interactive tables.';\n",
              "        element.innerHTML = '';\n",
              "        dataTable['output_type'] = 'display_data';\n",
              "        await google.colab.output.renderOutput(dataTable, element);\n",
              "        const docLink = document.createElement('div');\n",
              "        docLink.innerHTML = docLinkHtml;\n",
              "        element.appendChild(docLink);\n",
              "      }\n",
              "    </script>\n",
              "  </div>\n",
              "\n",
              "\n",
              "    <div id=\"df-f1f90474-d3c5-461b-8bab-860bd894f616\">\n",
              "      <button class=\"colab-df-quickchart\" onclick=\"quickchart('df-f1f90474-d3c5-461b-8bab-860bd894f616')\"\n",
              "                title=\"Suggest charts\"\n",
              "                style=\"display:none;\">\n",
              "\n",
              "<svg xmlns=\"http://www.w3.org/2000/svg\" height=\"24px\"viewBox=\"0 0 24 24\"\n",
              "     width=\"24px\">\n",
              "    <g>\n",
              "        <path d=\"M19 3H5c-1.1 0-2 .9-2 2v14c0 1.1.9 2 2 2h14c1.1 0 2-.9 2-2V5c0-1.1-.9-2-2-2zM9 17H7v-7h2v7zm4 0h-2V7h2v10zm4 0h-2v-4h2v4z\"/>\n",
              "    </g>\n",
              "</svg>\n",
              "      </button>\n",
              "\n",
              "<style>\n",
              "  .colab-df-quickchart {\n",
              "      --bg-color: #E8F0FE;\n",
              "      --fill-color: #1967D2;\n",
              "      --hover-bg-color: #E2EBFA;\n",
              "      --hover-fill-color: #174EA6;\n",
              "      --disabled-fill-color: #AAA;\n",
              "      --disabled-bg-color: #DDD;\n",
              "  }\n",
              "\n",
              "  [theme=dark] .colab-df-quickchart {\n",
              "      --bg-color: #3B4455;\n",
              "      --fill-color: #D2E3FC;\n",
              "      --hover-bg-color: #434B5C;\n",
              "      --hover-fill-color: #FFFFFF;\n",
              "      --disabled-bg-color: #3B4455;\n",
              "      --disabled-fill-color: #666;\n",
              "  }\n",
              "\n",
              "  .colab-df-quickchart {\n",
              "    background-color: var(--bg-color);\n",
              "    border: none;\n",
              "    border-radius: 50%;\n",
              "    cursor: pointer;\n",
              "    display: none;\n",
              "    fill: var(--fill-color);\n",
              "    height: 32px;\n",
              "    padding: 0;\n",
              "    width: 32px;\n",
              "  }\n",
              "\n",
              "  .colab-df-quickchart:hover {\n",
              "    background-color: var(--hover-bg-color);\n",
              "    box-shadow: 0 1px 2px rgba(60, 64, 67, 0.3), 0 1px 3px 1px rgba(60, 64, 67, 0.15);\n",
              "    fill: var(--button-hover-fill-color);\n",
              "  }\n",
              "\n",
              "  .colab-df-quickchart-complete:disabled,\n",
              "  .colab-df-quickchart-complete:disabled:hover {\n",
              "    background-color: var(--disabled-bg-color);\n",
              "    fill: var(--disabled-fill-color);\n",
              "    box-shadow: none;\n",
              "  }\n",
              "\n",
              "  .colab-df-spinner {\n",
              "    border: 2px solid var(--fill-color);\n",
              "    border-color: transparent;\n",
              "    border-bottom-color: var(--fill-color);\n",
              "    animation:\n",
              "      spin 1s steps(1) infinite;\n",
              "  }\n",
              "\n",
              "  @keyframes spin {\n",
              "    0% {\n",
              "      border-color: transparent;\n",
              "      border-bottom-color: var(--fill-color);\n",
              "      border-left-color: var(--fill-color);\n",
              "    }\n",
              "    20% {\n",
              "      border-color: transparent;\n",
              "      border-left-color: var(--fill-color);\n",
              "      border-top-color: var(--fill-color);\n",
              "    }\n",
              "    30% {\n",
              "      border-color: transparent;\n",
              "      border-left-color: var(--fill-color);\n",
              "      border-top-color: var(--fill-color);\n",
              "      border-right-color: var(--fill-color);\n",
              "    }\n",
              "    40% {\n",
              "      border-color: transparent;\n",
              "      border-right-color: var(--fill-color);\n",
              "      border-top-color: var(--fill-color);\n",
              "    }\n",
              "    60% {\n",
              "      border-color: transparent;\n",
              "      border-right-color: var(--fill-color);\n",
              "    }\n",
              "    80% {\n",
              "      border-color: transparent;\n",
              "      border-right-color: var(--fill-color);\n",
              "      border-bottom-color: var(--fill-color);\n",
              "    }\n",
              "    90% {\n",
              "      border-color: transparent;\n",
              "      border-bottom-color: var(--fill-color);\n",
              "    }\n",
              "  }\n",
              "</style>\n",
              "\n",
              "      <script>\n",
              "        async function quickchart(key) {\n",
              "          const quickchartButtonEl =\n",
              "            document.querySelector('#' + key + ' button');\n",
              "          quickchartButtonEl.disabled = true;  // To prevent multiple clicks.\n",
              "          quickchartButtonEl.classList.add('colab-df-spinner');\n",
              "          try {\n",
              "            const charts = await google.colab.kernel.invokeFunction(\n",
              "                'suggestCharts', [key], {});\n",
              "          } catch (error) {\n",
              "            console.error('Error during call to suggestCharts:', error);\n",
              "          }\n",
              "          quickchartButtonEl.classList.remove('colab-df-spinner');\n",
              "          quickchartButtonEl.classList.add('colab-df-quickchart-complete');\n",
              "        }\n",
              "        (() => {\n",
              "          let quickchartButtonEl =\n",
              "            document.querySelector('#df-f1f90474-d3c5-461b-8bab-860bd894f616 button');\n",
              "          quickchartButtonEl.style.display =\n",
              "            google.colab.kernel.accessAllowed ? 'block' : 'none';\n",
              "        })();\n",
              "      </script>\n",
              "    </div>\n",
              "\n",
              "    </div>\n",
              "  </div>\n"
            ],
            "application/vnd.google.colaboratory.intrinsic+json": {
              "type": "dataframe",
              "variable_name": "df"
            }
          },
          "metadata": {},
          "execution_count": 8
        }
      ]
    },
    {
      "cell_type": "code",
      "source": [
        "from rice_ml.linear_regression import LinearRegression\n",
        "import numpy as np\n",
        "import pandas as pd\n",
        "\n",
        "\n",
        "df = df.copy()\n",
        "df = df[(df['pickup_longitude'] != 0) & (df['dropoff_longitude'] != 0)]\n",
        "df = df.dropna(subset=[\n",
        "    'pickup_latitude', 'pickup_longitude', 'dropoff_latitude', 'dropoff_longitude',\n",
        "    'passenger_count', 'fare_amount', 'pickup_datetime'\n",
        "])\n",
        "\n",
        "\n",
        "df['pickup_datetime'] = pd.to_datetime(df['pickup_datetime'], errors='coerce')\n",
        "df = df.dropna(subset=['pickup_datetime'])\n",
        "df['hour'] = df['pickup_datetime'].dt.hour\n",
        "\n",
        "\n",
        "features = ['pickup_latitude', 'pickup_longitude', 'dropoff_latitude', 'dropoff_longitude', 'passenger_count', 'hour']\n",
        "X = df[features].values\n",
        "y = df['fare_amount'].values\n",
        "\n",
        "\n",
        "split_idx = int(0.8 * len(X))\n",
        "X_train, X_test = X[:split_idx], X[split_idx:]\n",
        "y_train, y_test = y[:split_idx], y[split_idx:]\n",
        "\n",
        "\n",
        "model = LinearRegression()\n",
        "model.fit(X_train, y_train)\n",
        "y_pred = model.predict(X_test)\n",
        "\n",
        "\n",
        "mse = np.mean((y_test - y_pred) ** 2)\n",
        "print(\"Test MSE:\", mse)\n"
      ],
      "metadata": {
        "colab": {
          "base_uri": "https://localhost:8080/"
        },
        "id": "bB7JwDwurRro",
        "outputId": "6d8604d8-83c6-484a-8123-9827af1139ae"
      },
      "execution_count": 11,
      "outputs": [
        {
          "output_type": "stream",
          "name": "stdout",
          "text": [
            "测试集上的均方误差 (MSE): 101.59671443292676\n"
          ]
        }
      ]
    },
    {
      "cell_type": "code",
      "source": [
        "# perceptron\n",
        "perceptron_code = \"\"\"\n",
        "import numpy as np\n",
        "\n",
        "class Perceptron:\n",
        "    def __init__(self, learning_rate=0.01, n_iters=1000):\n",
        "        self.lr = learning_rate\n",
        "        self.n_iters = n_iters\n",
        "        self.weights = None\n",
        "        self.bias = None\n",
        "\n",
        "    def fit(self, X, y):\n",
        "        n_samples, n_features = X.shape\n",
        "        self.weights = np.zeros(n_features)\n",
        "        self.bias = 0\n",
        "\n",
        "        y_ = np.where(y <= 0, -1, 1)  # Perceptron expects labels in {-1, 1}\n",
        "\n",
        "        for _ in range(self.n_iters):\n",
        "            for idx, x_i in enumerate(X):\n",
        "                linear_output = np.dot(x_i, self.weights) + self.bias\n",
        "                if y_[idx] * linear_output <= 0:\n",
        "                    self.weights += self.lr * y_[idx] * x_i\n",
        "                    self.bias += self.lr * y_[idx]\n",
        "\n",
        "    def predict(self, X):\n",
        "        linear_output = np.dot(X, self.weights) + self.bias\n",
        "        return np.where(linear_output >= 0, 1, 0)\n",
        "\"\"\"\n",
        "with open(\"rice_ml/perceptron.py\", \"w\") as f:\n",
        "    f.write(perceptron_code)\n"
      ],
      "metadata": {
        "id": "ObsLv8qDggqj"
      },
      "execution_count": 5,
      "outputs": []
    },
    {
      "cell_type": "code",
      "source": [
        "%%writefile rice_ml/perceptron.py\n",
        "\n",
        "import numpy as np\n",
        "\n",
        "class Perceptron:\n",
        "    def __init__(self, learning_rate=0.01, n_iters=1000):\n",
        "        self.lr = learning_rate\n",
        "        self.n_iters = n_iters\n",
        "        self.weights = None\n",
        "        self.bias = None\n",
        "\n",
        "    def fit(self, X, y):\n",
        "        n_samples, n_features = X.shape\n",
        "        self.weights = np.zeros(n_features)\n",
        "        self.bias = 0\n",
        "\n",
        "        y_ = np.where(y <= 0, -1, 1)\n",
        "\n",
        "        for _ in range(self.n_iters):\n",
        "            for idx, x_i in enumerate(X):\n",
        "                linear_output = np.dot(x_i, self.weights) + self.bias\n",
        "                y_predicted = np.sign(linear_output)\n",
        "                if y_[idx] * linear_output <= 0:\n",
        "                    self.weights += self.lr * y_[idx] * x_i\n",
        "                    self.bias += self.lr * y_[idx]\n",
        "\n",
        "    def predict(self, X):\n",
        "        linear_output = np.dot(X, self.weights) + self.bias\n",
        "        return np.where(linear_output > 0, 1, 0)\n"
      ],
      "metadata": {
        "colab": {
          "base_uri": "https://localhost:8080/"
        },
        "id": "kUIOkYTtzT54",
        "outputId": "d15289b2-faa6-4f45-f2ac-58afb08c0f06"
      },
      "execution_count": 15,
      "outputs": [
        {
          "output_type": "stream",
          "name": "stdout",
          "text": [
            "Overwriting rice_ml/perceptron.py\n"
          ]
        }
      ]
    },
    {
      "cell_type": "code",
      "source": [
        "from google.colab import files\n",
        "files.download(\"rice_ml/perceptron.py\")\n"
      ],
      "metadata": {
        "colab": {
          "base_uri": "https://localhost:8080/",
          "height": 17
        },
        "id": "CxgQSKZIzT8O",
        "outputId": "acd6f3c3-8a0a-4ac3-e216-4a60be07a230"
      },
      "execution_count": 16,
      "outputs": [
        {
          "output_type": "display_data",
          "data": {
            "text/plain": [
              "<IPython.core.display.Javascript object>"
            ],
            "application/javascript": [
              "\n",
              "    async function download(id, filename, size) {\n",
              "      if (!google.colab.kernel.accessAllowed) {\n",
              "        return;\n",
              "      }\n",
              "      const div = document.createElement('div');\n",
              "      const label = document.createElement('label');\n",
              "      label.textContent = `Downloading \"${filename}\": `;\n",
              "      div.appendChild(label);\n",
              "      const progress = document.createElement('progress');\n",
              "      progress.max = size;\n",
              "      div.appendChild(progress);\n",
              "      document.body.appendChild(div);\n",
              "\n",
              "      const buffers = [];\n",
              "      let downloaded = 0;\n",
              "\n",
              "      const channel = await google.colab.kernel.comms.open(id);\n",
              "      // Send a message to notify the kernel that we're ready.\n",
              "      channel.send({})\n",
              "\n",
              "      for await (const message of channel.messages) {\n",
              "        // Send a message to notify the kernel that we're ready.\n",
              "        channel.send({})\n",
              "        if (message.buffers) {\n",
              "          for (const buffer of message.buffers) {\n",
              "            buffers.push(buffer);\n",
              "            downloaded += buffer.byteLength;\n",
              "            progress.value = downloaded;\n",
              "          }\n",
              "        }\n",
              "      }\n",
              "      const blob = new Blob(buffers, {type: 'application/binary'});\n",
              "      const a = document.createElement('a');\n",
              "      a.href = window.URL.createObjectURL(blob);\n",
              "      a.download = filename;\n",
              "      div.appendChild(a);\n",
              "      a.click();\n",
              "      div.remove();\n",
              "    }\n",
              "  "
            ]
          },
          "metadata": {}
        },
        {
          "output_type": "display_data",
          "data": {
            "text/plain": [
              "<IPython.core.display.Javascript object>"
            ],
            "application/javascript": [
              "download(\"download_83192fb7-f1ca-449a-9cba-dc5faad6bad2\", \"perceptron.py\", 883)"
            ]
          },
          "metadata": {}
        }
      ]
    },
    {
      "cell_type": "code",
      "source": [
        "from google.colab import files\n",
        "files.download(\"rice_ml/linear_regression.py\")\n"
      ],
      "metadata": {
        "colab": {
          "base_uri": "https://localhost:8080/",
          "height": 17
        },
        "id": "x-2qTQgP1VE2",
        "outputId": "72b60825-b76f-48bc-f0b3-8a27a6002711"
      },
      "execution_count": 18,
      "outputs": [
        {
          "output_type": "display_data",
          "data": {
            "text/plain": [
              "<IPython.core.display.Javascript object>"
            ],
            "application/javascript": [
              "\n",
              "    async function download(id, filename, size) {\n",
              "      if (!google.colab.kernel.accessAllowed) {\n",
              "        return;\n",
              "      }\n",
              "      const div = document.createElement('div');\n",
              "      const label = document.createElement('label');\n",
              "      label.textContent = `Downloading \"${filename}\": `;\n",
              "      div.appendChild(label);\n",
              "      const progress = document.createElement('progress');\n",
              "      progress.max = size;\n",
              "      div.appendChild(progress);\n",
              "      document.body.appendChild(div);\n",
              "\n",
              "      const buffers = [];\n",
              "      let downloaded = 0;\n",
              "\n",
              "      const channel = await google.colab.kernel.comms.open(id);\n",
              "      // Send a message to notify the kernel that we're ready.\n",
              "      channel.send({})\n",
              "\n",
              "      for await (const message of channel.messages) {\n",
              "        // Send a message to notify the kernel that we're ready.\n",
              "        channel.send({})\n",
              "        if (message.buffers) {\n",
              "          for (const buffer of message.buffers) {\n",
              "            buffers.push(buffer);\n",
              "            downloaded += buffer.byteLength;\n",
              "            progress.value = downloaded;\n",
              "          }\n",
              "        }\n",
              "      }\n",
              "      const blob = new Blob(buffers, {type: 'application/binary'});\n",
              "      const a = document.createElement('a');\n",
              "      a.href = window.URL.createObjectURL(blob);\n",
              "      a.download = filename;\n",
              "      div.appendChild(a);\n",
              "      a.click();\n",
              "      div.remove();\n",
              "    }\n",
              "  "
            ]
          },
          "metadata": {}
        },
        {
          "output_type": "display_data",
          "data": {
            "text/plain": [
              "<IPython.core.display.Javascript object>"
            ],
            "application/javascript": [
              "download(\"download_27598eb4-21e5-44be-bfed-f791dce93945\", \"linear_regression.py\", 455)"
            ]
          },
          "metadata": {}
        }
      ]
    },
    {
      "cell_type": "markdown",
      "source": [
        "# **Test Task Setup (Classification) - Perceptron model**"
      ],
      "metadata": {
        "id": "DfHpE7Od28lb"
      }
    },
    {
      "cell_type": "code",
      "source": [
        "from rice_ml.perceptron import Perceptron\n",
        "import numpy as np\n",
        "import pandas as pd\n",
        "\n",
        "# 5000\n",
        "df_sample = df.copy()\n",
        "df_sample = df_sample[(df_sample['pickup_longitude'] != 0) & (df_sample['dropoff_longitude'] != 0)]\n",
        "df_sample = df_sample.dropna(subset=[\n",
        "    'pickup_latitude', 'pickup_longitude', 'dropoff_latitude',\n",
        "    'dropoff_longitude', 'passenger_count', 'fare_amount', 'pickup_datetime'\n",
        "])\n",
        "\n",
        "df_sample['pickup_datetime'] = pd.to_datetime(df_sample['pickup_datetime'], errors='coerce')\n",
        "df_sample = df_sample.dropna(subset=['pickup_datetime'])\n",
        "df_sample['hour'] = df_sample['pickup_datetime'].dt.hour\n",
        "\n",
        "# ✅ 5000\n",
        "df_sample = df_sample.sample(n=5000, random_state=42)\n",
        "\n",
        "\n",
        "features = ['pickup_latitude', 'pickup_longitude', 'dropoff_latitude', 'dropoff_longitude', 'passenger_count', 'hour']\n",
        "X = df_sample[features].values\n",
        "y = (df_sample['fare_amount'] > 15).astype(int).values  # High fare =1，others=0\n",
        "\n",
        "\n",
        "n = len(X)\n",
        "train_end = int(0.6 * n)\n",
        "val_end = int(0.8 * n)\n",
        "\n",
        "X_train, X_val, X_test = X[:train_end], X[train_end:val_end], X[val_end:]\n",
        "y_train, y_val, y_test = y[:train_end], y[train_end:val_end], y[val_end:]\n",
        "\n",
        "model = Perceptron(learning_rate=0.01, n_iters=100)\n",
        "model.fit(X_train, y_train)\n",
        "\n",
        "\n",
        "y_val_pred = model.predict(X_val)\n",
        "val_acc = np.mean(y_val_pred == y_val)\n",
        "print(\"Validation Accuracy：\", val_acc)\n",
        "\n",
        "\n",
        "y_test_pred = model.predict(X_test)\n",
        "test_acc = np.mean(y_test_pred == y_test)\n",
        "print(\"Test Accuracy：\", test_acc)\n"
      ],
      "metadata": {
        "colab": {
          "base_uri": "https://localhost:8080/"
        },
        "id": "G4UDXVPX2534",
        "outputId": "5c4a9b46-0395-4ef3-f977-bb72948a1e1f"
      },
      "execution_count": 12,
      "outputs": [
        {
          "output_type": "stream",
          "name": "stdout",
          "text": [
            "验证集准确率： 0.849\n",
            "测试集准确率： 0.823\n"
          ]
        }
      ]
    },
    {
      "cell_type": "code",
      "source": [
        "import os\n",
        "\n",
        "# Create the rice_ml directory (if it doesn’t already exist)\n",
        "os.makedirs(\"rice_ml\", exist_ok=True)\n",
        "\n",
        "# Write the metrics.py file\n",
        "metrics_code = \"\"\"\n",
        "import numpy as np\n",
        "\n",
        "# ✅ Classification tasks\n",
        "def accuracy(y_true, y_pred):\n",
        "    \\\"\\\"\\\"Compute classification accuracy.\\\"\\\"\\\"\n",
        "    return np.mean(y_true == y_pred)\n",
        "\n",
        "# ✅ Regression tasks\n",
        "def mse(y_true, y_pred):\n",
        "    \\\"\\\"\\\"Mean Squared Error (MSE).\\\"\\\"\\\"\n",
        "    return np.mean((y_true - y_pred) ** 2)\n",
        "\n",
        "def r2_score(y_true, y_pred):\n",
        "    \\\"\\\"\\\"Coefficient of determination (R²).\\\"\\\"\\\"\n",
        "    ss_res = np.sum((y_true - y_pred) ** 2)\n",
        "    ss_tot = np.sum((y_true - np.mean(y_true)) ** 2)\n",
        "    return 1 - ss_res / ss_tot\n",
        "\"\"\"\n",
        "\n",
        "with open(\"rice_ml/metrics.py\", \"w\") as f:\n",
        "    f.write(metrics_code)\n"
      ],
      "metadata": {
        "id": "K3VWNCwE258q"
      },
      "execution_count": 13,
      "outputs": []
    },
    {
      "cell_type": "code",
      "source": [
        "from google.colab import files\n",
        "files.download(\"rice_ml/metrics.py\")"
      ],
      "metadata": {
        "colab": {
          "base_uri": "https://localhost:8080/",
          "height": 17
        },
        "id": "09-7394o25_B",
        "outputId": "4c9034fd-5fc1-4680-ee59-f55189fa718b"
      },
      "execution_count": 14,
      "outputs": [
        {
          "output_type": "display_data",
          "data": {
            "text/plain": [
              "<IPython.core.display.Javascript object>"
            ],
            "application/javascript": [
              "\n",
              "    async function download(id, filename, size) {\n",
              "      if (!google.colab.kernel.accessAllowed) {\n",
              "        return;\n",
              "      }\n",
              "      const div = document.createElement('div');\n",
              "      const label = document.createElement('label');\n",
              "      label.textContent = `Downloading \"${filename}\": `;\n",
              "      div.appendChild(label);\n",
              "      const progress = document.createElement('progress');\n",
              "      progress.max = size;\n",
              "      div.appendChild(progress);\n",
              "      document.body.appendChild(div);\n",
              "\n",
              "      const buffers = [];\n",
              "      let downloaded = 0;\n",
              "\n",
              "      const channel = await google.colab.kernel.comms.open(id);\n",
              "      // Send a message to notify the kernel that we're ready.\n",
              "      channel.send({})\n",
              "\n",
              "      for await (const message of channel.messages) {\n",
              "        // Send a message to notify the kernel that we're ready.\n",
              "        channel.send({})\n",
              "        if (message.buffers) {\n",
              "          for (const buffer of message.buffers) {\n",
              "            buffers.push(buffer);\n",
              "            downloaded += buffer.byteLength;\n",
              "            progress.value = downloaded;\n",
              "          }\n",
              "        }\n",
              "      }\n",
              "      const blob = new Blob(buffers, {type: 'application/binary'});\n",
              "      const a = document.createElement('a');\n",
              "      a.href = window.URL.createObjectURL(blob);\n",
              "      a.download = filename;\n",
              "      div.appendChild(a);\n",
              "      a.click();\n",
              "      div.remove();\n",
              "    }\n",
              "  "
            ]
          },
          "metadata": {}
        },
        {
          "output_type": "display_data",
          "data": {
            "text/plain": [
              "<IPython.core.display.Javascript object>"
            ],
            "application/javascript": [
              "download(\"download_864303db-220b-4a4f-a50c-3985e02587cc\", \"metrics.py\", 491)"
            ]
          },
          "metadata": {}
        }
      ]
    },
    {
      "cell_type": "code",
      "source": [
        "import os\n",
        "\n",
        "os.makedirs(\"rice_ml\", exist_ok=True)\n",
        "\n",
        "nn_code = \"\"\"\n",
        "import numpy as np\n",
        "\n",
        "class SimpleNeuralNetwork:\n",
        "    def __init__(self, input_dim, hidden_dim=10, learning_rate=0.01, n_iters=1000):\n",
        "        self.input_dim = input_dim\n",
        "        self.hidden_dim = hidden_dim\n",
        "        self.lr = learning_rate\n",
        "        self.n_iters = n_iters\n",
        "        self._init_weights()\n",
        "\n",
        "    def _init_weights(self):\n",
        "        self.W1 = np.random.randn(self.input_dim, self.hidden_dim) * 0.01\n",
        "        self.b1 = np.zeros((1, self.hidden_dim))\n",
        "        self.W2 = np.random.randn(self.hidden_dim, 1) * 0.01\n",
        "        self.b2 = np.zeros((1, 1))\n",
        "\n",
        "    def sigmoid(self, z):\n",
        "        return 1 / (1 + np.exp(-z))\n",
        "\n",
        "    def relu(self, z):\n",
        "        return np.maximum(0, z)\n",
        "\n",
        "    def relu_derivative(self, z):\n",
        "        return (z > 0).astype(float)\n",
        "\n",
        "    def fit(self, X, y):\n",
        "        y = y.reshape(-1, 1)\n",
        "        for _ in range(self.n_iters):\n",
        "            # Forward pass\n",
        "            Z1 = np.dot(X, self.W1) + self.b1\n",
        "            A1 = self.relu(Z1)\n",
        "            Z2 = np.dot(A1, self.W2) + self.b2\n",
        "            A2 = self.sigmoid(Z2)\n",
        "\n",
        "            # Backward pass\n",
        "            dZ2 = A2 - y\n",
        "            dW2 = np.dot(A1.T, dZ2) / X.shape[0]\n",
        "            db2 = np.mean(dZ2, axis=0, keepdims=True)\n",
        "\n",
        "            dA1 = np.dot(dZ2, self.W2.T)\n",
        "            dZ1 = dA1 * self.relu_derivative(Z1)\n",
        "            dW1 = np.dot(X.T, dZ1) / X.shape[0]\n",
        "            db1 = np.mean(dZ1, axis=0, keepdims=True)\n",
        "\n",
        "            # Gradient descent\n",
        "            self.W1 -= self.lr * dW1\n",
        "            self.b1 -= self.lr * db1\n",
        "            self.W2 -= self.lr * dW2\n",
        "            self.b2 -= self.lr * db2\n",
        "\n",
        "    def predict(self, X):\n",
        "        A1 = self.relu(np.dot(X, self.W1) + self.b1)\n",
        "        A2 = self.sigmoid(np.dot(A1, self.W2) + self.b2)\n",
        "        return (A2 >= 0.5).astype(int).flatten()\n",
        "\"\"\"\n",
        "\n",
        "with open(\"rice_ml/neural_network.py\", \"w\") as f:\n",
        "    f.write(nn_code)\n"
      ],
      "metadata": {
        "id": "eUUXS3yA8ry5"
      },
      "execution_count": 15,
      "outputs": []
    },
    {
      "cell_type": "code",
      "source": [
        "from rice_ml.neural_network import SimpleNeuralNetwork\n",
        "from rice_ml.metrics import accuracy\n",
        "import numpy as np\n",
        "import pandas as pd\n",
        "\n",
        "\n",
        "df_nn = df.copy()\n",
        "df_nn = df_nn[(df_nn['pickup_longitude'] != 0) & (df_nn['dropoff_longitude'] != 0)]\n",
        "df_nn = df_nn.dropna(subset=[\n",
        "    'pickup_latitude', 'pickup_longitude', 'dropoff_latitude',\n",
        "    'dropoff_longitude', 'passenger_count', 'fare_amount', 'pickup_datetime'\n",
        "])\n",
        "df_nn['pickup_datetime'] = pd.to_datetime(df_nn['pickup_datetime'], errors='coerce')\n",
        "df_nn = df_nn.dropna(subset=['pickup_datetime'])\n",
        "df_nn['hour'] = df_nn['pickup_datetime'].dt.hour\n",
        "\n",
        "\n",
        "df_nn = df_nn.sample(n=5000, random_state=42)\n",
        "\n",
        "\n",
        "features = ['pickup_latitude', 'pickup_longitude', 'dropoff_latitude',\n",
        "            'dropoff_longitude', 'passenger_count', 'hour']\n",
        "X = df_nn[features].values\n",
        "y = (df_nn['fare_amount'] > 15).astype(int).values\n",
        "\n",
        "\n",
        "n = len(X)\n",
        "train_end = int(0.6 * n)\n",
        "val_end = int(0.8 * n)\n",
        "X_train, X_val, X_test = X[:train_end], X[train_end:val_end], X[val_end:]\n",
        "y_train, y_val, y_test = y[:train_end], y[train_end:val_end], y[val_end:]\n",
        "\n",
        "\n",
        "model = SimpleNeuralNetwork(input_dim=X.shape[1], hidden_dim=10, learning_rate=0.01, n_iters=300)\n",
        "model.fit(X_train, y_train)\n",
        "\n",
        "\n",
        "y_val_pred = model.predict(X_val)\n",
        "y_test_pred = model.predict(X_test)\n",
        "\n",
        "val_acc = accuracy(y_val, y_val_pred)\n",
        "test_acc = accuracy(y_test, y_test_pred)\n",
        "\n",
        "print(\"Validation Accuracy：\", val_acc)\n",
        "print(\"Test Accuracy：\", test_acc)\n"
      ],
      "metadata": {
        "colab": {
          "base_uri": "https://localhost:8080/"
        },
        "id": "dVymne548r1N",
        "outputId": "15b3ec56-7029-41ed-f09a-ad3db70d16ef"
      },
      "execution_count": 16,
      "outputs": [
        {
          "output_type": "stream",
          "name": "stdout",
          "text": [
            "验证集准确率： 0.849\n",
            "测试集准确率： 0.823\n"
          ]
        }
      ]
    },
    {
      "cell_type": "code",
      "source": [
        "import os\n",
        "os.makedirs(\"rice_ml\", exist_ok=True)\n",
        "\n",
        "tree_code = \"\"\"\n",
        "import numpy as np\n",
        "\n",
        "class DecisionTree:\n",
        "    def __init__(self, max_depth=5, min_samples_split=2):\n",
        "        self.max_depth = max_depth\n",
        "        self.min_samples_split = min_samples_split\n",
        "        self.root = None\n",
        "\n",
        "    def fit(self, X, y):\n",
        "        self.root = self._build_tree(X, y, depth=0)\n",
        "\n",
        "    def predict(self, X):\n",
        "        return np.array([self._predict_one(x, self.root) for x in X])\n",
        "\n",
        "    def _gini(self, y):\n",
        "        classes = np.unique(y)\n",
        "        impurity = 1.0\n",
        "        for c in classes:\n",
        "            p = np.sum(y == c) / len(y)\n",
        "            impurity -= p ** 2\n",
        "        return impurity\n",
        "\n",
        "    def _best_split(self, X, y):\n",
        "        best_idx, best_thresh, best_gain = None, None, 0\n",
        "        n_samples, n_features = X.shape\n",
        "        parent_impurity = self._gini(y)\n",
        "\n",
        "        for feature_idx in range(n_features):\n",
        "            thresholds = np.unique(X[:, feature_idx])\n",
        "            for t in thresholds:\n",
        "                left = y[X[:, feature_idx] <= t]\n",
        "                right = y[X[:, feature_idx] > t]\n",
        "                if len(left) < self.min_samples_split or len(right) < self.min_samples_split:\n",
        "                    continue\n",
        "                left_impurity = self._gini(left)\n",
        "                right_impurity = self._gini(right)\n",
        "                weighted_impurity = (len(left)*left_impurity + len(right)*right_impurity) / len(y)\n",
        "                gain = parent_impurity - weighted_impurity\n",
        "                if gain > best_gain:\n",
        "                    best_gain = gain\n",
        "                    best_idx = feature_idx\n",
        "                    best_thresh = t\n",
        "        return best_idx, best_thresh\n",
        "\n",
        "    def _build_tree(self, X, y, depth):\n",
        "        if len(np.unique(y)) == 1 or depth >= self.max_depth or len(y) < self.min_samples_split:\n",
        "            return {'leaf': True, 'label': np.bincount(y).argmax()}\n",
        "\n",
        "        feat_idx, thresh = self._best_split(X, y)\n",
        "        if feat_idx is None:\n",
        "            return {'leaf': True, 'label': np.bincount(y).argmax()}\n",
        "\n",
        "        left_mask = X[:, feat_idx] <= thresh\n",
        "        right_mask = ~left_mask\n",
        "\n",
        "        return {\n",
        "            'leaf': False,\n",
        "            'feature_index': feat_idx,\n",
        "            'threshold': thresh,\n",
        "            'left': self._build_tree(X[left_mask], y[left_mask], depth + 1),\n",
        "            'right': self._build_tree(X[right_mask], y[right_mask], depth + 1)\n",
        "        }\n",
        "\n",
        "    def _predict_one(self, x, node):\n",
        "        if node['leaf']:\n",
        "            return node['label']\n",
        "        if x[node['feature_index']] <= node['threshold']:\n",
        "            return self._predict_one(x, node['left'])\n",
        "        else:\n",
        "            return self._predict_one(x, node['right'])\n",
        "\"\"\"\n",
        "with open(\"rice_ml/decision_tree.py\", \"w\") as f:\n",
        "    f.write(tree_code)\n"
      ],
      "metadata": {
        "id": "XBkOjg0q8r32"
      },
      "execution_count": 17,
      "outputs": []
    },
    {
      "cell_type": "code",
      "source": [
        "from rice_ml.decision_tree import DecisionTree\n",
        "from rice_ml.metrics import accuracy\n",
        "import numpy as np\n",
        "import pandas as pd\n",
        "\n",
        "# 1. Data preprocessing\n",
        "df_tree = df.copy()\n",
        "df_tree = df_tree[(df_tree['pickup_longitude'] != 0) & (df_tree['dropoff_longitude'] != 0)]\n",
        "df_tree = df_tree.dropna(subset=[\n",
        "    'pickup_latitude', 'pickup_longitude', 'dropoff_latitude',\n",
        "    'dropoff_longitude', 'passenger_count', 'fare_amount', 'pickup_datetime'\n",
        "])\n",
        "df_tree['pickup_datetime'] = pd.to_datetime(df_tree['pickup_datetime'], errors='coerce')\n",
        "df_tree = df_tree.dropna(subset=['pickup_datetime'])\n",
        "df_tree['hour'] = df_tree['pickup_datetime'].dt.hour\n",
        "\n",
        "# 2. Sample data to speed up training\n",
        "df_tree = df_tree.sample(n=5000, random_state=42)\n",
        "\n",
        "# 3. Define features and binary target (is high-fare ride?)\n",
        "features = ['pickup_latitude', 'pickup_longitude', 'dropoff_latitude',\n",
        "            'dropoff_longitude', 'passenger_count', 'hour']\n",
        "X = df_tree[features].values\n",
        "y = (df_tree['fare_amount'] > 15).astype(int).values  # high fare = 1\n",
        "\n",
        "# 4. Split into train/val/test sets\n",
        "n = len(X)\n",
        "train_end = int(0.6 * n)\n",
        "val_end = int(0.8 * n)\n",
        "X_train, X_val, X_test = X[:train_end], X[train_end:val_end], X[val_end:]\n",
        "y_train, y_val, y_test = y[:train_end], y[train_end:val_end], y[val_end:]\n",
        "\n",
        "# 5. Train decision tree\n",
        "tree = DecisionTree(max_depth=5, min_samples_split=10)\n",
        "tree.fit(X_train, y_train)\n",
        "\n",
        "# 6. Predict and evaluate\n",
        "y_val_pred = tree.predict(X_val)\n",
        "y_test_pred = tree.predict(X_test)\n",
        "\n",
        "val_acc = accuracy(y_val, y_val_pred)\n",
        "test_acc = accuracy(y_test, y_test_pred)\n",
        "\n",
        "print(\"Validation Accuracy:\", val_acc)\n",
        "print(\"Test Accuracy:\", test_acc)\n"
      ],
      "metadata": {
        "colab": {
          "base_uri": "https://localhost:8080/"
        },
        "id": "AVEDjlyh8r6M",
        "outputId": "cde4b8ff-344f-49ab-c9f9-456cbbdc14ae"
      },
      "execution_count": 18,
      "outputs": [
        {
          "output_type": "stream",
          "name": "stdout",
          "text": [
            "Validation Accuracy: 0.91\n",
            "Test Accuracy: 0.906\n"
          ]
        }
      ]
    },
    {
      "cell_type": "code",
      "source": [
        "import os\n",
        "\n",
        "os.makedirs(\"rice_ml\", exist_ok=True)\n",
        "\n",
        "rf_code = \"\"\"\n",
        "import numpy as np\n",
        "from rice_ml.decision_tree import DecisionTree\n",
        "from collections import Counter\n",
        "\n",
        "class RandomForest:\n",
        "    def __init__(self, n_estimators=10, max_depth=5, min_samples_split=2, sample_ratio=0.8):\n",
        "        # Initialize forest parameters\n",
        "        self.n_estimators = n_estimators\n",
        "        self.max_depth = max_depth\n",
        "        self.min_samples_split = min_samples_split\n",
        "        self.sample_ratio = sample_ratio\n",
        "        self.trees = []\n",
        "\n",
        "    def _bootstrap_sample(self, X, y):\n",
        "        # Randomly sample data with replacement\n",
        "        n_samples = int(len(X) * self.sample_ratio)\n",
        "        indices = np.random.choice(len(X), n_samples, replace=True)\n",
        "        return X[indices], y[indices]\n",
        "\n",
        "    def fit(self, X, y):\n",
        "        # Train each tree on a bootstrap sample\n",
        "        self.trees = []\n",
        "        for _ in range(self.n_estimators):\n",
        "            tree = DecisionTree(max_depth=self.max_depth, min_samples_split=self.min_samples_split)\n",
        "            X_sample, y_sample = self._bootstrap_sample(X, y)\n",
        "            tree.fit(X_sample, y_sample)\n",
        "            self.trees.append(tree)\n",
        "\n",
        "    def predict(self, X):\n",
        "        # Aggregate predictions from all trees\n",
        "        tree_preds = np.array([tree.predict(X) for tree in self.trees])\n",
        "        tree_preds = tree_preds.T  # shape: [n_samples, n_trees]\n",
        "        return np.array([Counter(row).most_common(1)[0][0] for row in tree_preds])\n",
        "\"\"\"\n",
        "\n",
        "with open(\"rice_ml/random_forest.py\", \"w\") as f:\n",
        "    f.write(rf_code)\n"
      ],
      "metadata": {
        "id": "dX4Gp9aq8r8O"
      },
      "execution_count": 19,
      "outputs": []
    },
    {
      "cell_type": "code",
      "source": [
        "from rice_ml.random_forest import RandomForest\n",
        "from rice_ml.metrics import accuracy\n",
        "import numpy as np\n",
        "import pandas as pd\n",
        "\n",
        "# 1. Preprocess and sample data\n",
        "df_rf = df.copy()\n",
        "df_rf = df_rf[(df_rf['pickup_longitude'] != 0) & (df_rf['dropoff_longitude'] != 0)]\n",
        "df_rf = df_rf.dropna(subset=[\n",
        "    'pickup_latitude', 'pickup_longitude', 'dropoff_latitude',\n",
        "    'dropoff_longitude', 'passenger_count', 'fare_amount', 'pickup_datetime'\n",
        "])\n",
        "df_rf['pickup_datetime'] = pd.to_datetime(df_rf['pickup_datetime'], errors='coerce')\n",
        "df_rf = df_rf.dropna(subset=['pickup_datetime'])\n",
        "df_rf['hour'] = df_rf['pickup_datetime'].dt.hour\n",
        "\n",
        "# Sample 5000 rows for faster training\n",
        "df_rf = df_rf.sample(n=5000, random_state=42)\n",
        "\n",
        "# 2. Create features and binary target (is_high_fare)\n",
        "features = ['pickup_latitude', 'pickup_longitude', 'dropoff_latitude',\n",
        "            'dropoff_longitude', 'passenger_count', 'hour']\n",
        "X = df_rf[features].values\n",
        "y = (df_rf['fare_amount'] > 15).astype(int).values\n",
        "\n",
        "# 3. Split into train/val/test\n",
        "n = len(X)\n",
        "train_end = int(0.6 * n)\n",
        "val_end = int(0.8 * n)\n",
        "X_train, X_val, X_test = X[:train_end], X[train_end:val_end], X[val_end:]\n",
        "y_train, y_val, y_test = y[:train_end], y[train_end:val_end], y[val_end:]\n",
        "\n",
        "# 4. Train Random Forest\n",
        "rf = RandomForest(n_estimators=10, max_depth=6, min_samples_split=5)\n",
        "rf.fit(X_train, y_train)\n",
        "\n",
        "# 5. Predict and evaluate\n",
        "y_val_pred = rf.predict(X_val)\n",
        "y_test_pred = rf.predict(X_test)\n",
        "\n",
        "val_acc = accuracy(y_val, y_val_pred)\n",
        "test_acc = accuracy(y_test, y_test_pred)\n",
        "\n",
        "print(\"Validation Accuracy:\", val_acc)\n",
        "print(\"Test Accuracy:\", test_acc)\n"
      ],
      "metadata": {
        "colab": {
          "base_uri": "https://localhost:8080/"
        },
        "id": "k-Zmdm6n26A5",
        "outputId": "ff6d52f8-28b2-4816-e115-9e6447ac6af9"
      },
      "execution_count": 20,
      "outputs": [
        {
          "output_type": "stream",
          "name": "stdout",
          "text": [
            "Validation Accuracy: 0.928\n",
            "Test Accuracy: 0.91\n"
          ]
        }
      ]
    },
    {
      "cell_type": "code",
      "source": [],
      "metadata": {
        "id": "ohxUnwuw-I5o"
      },
      "execution_count": 21,
      "outputs": []
    },
    {
      "cell_type": "code",
      "source": [
        "import os\n",
        "\n",
        "os.makedirs(\"rice_ml\", exist_ok=True)\n",
        "\n",
        "tree_code = \"\"\"\n",
        "import numpy as np\n",
        "\n",
        "class DecisionTree:\n",
        "    def __init__(self, max_depth=5, min_samples_split=2):\n",
        "        self.max_depth = max_depth\n",
        "        self.min_samples_split = min_samples_split\n",
        "        self.root = None\n",
        "\n",
        "    def fit(self, X, y):\n",
        "        y = np.array(y, dtype=int).flatten()  # 强制转为整数型 numpy array\n",
        "        self.root = self._build_tree(X, y, depth=0)\n",
        "\n",
        "    def predict(self, X):\n",
        "        return np.array([self._predict_one(x, self.root) for x in X])\n",
        "\n",
        "    def _gini(self, y):\n",
        "        classes = np.unique(y)\n",
        "        impurity = 1.0\n",
        "        for c in classes:\n",
        "            p = np.sum(y == c) / len(y)\n",
        "            impurity -= p ** 2\n",
        "        return impurity\n",
        "\n",
        "    def _best_split(self, X, y):\n",
        "        best_idx, best_thresh, best_gain = None, None, 0\n",
        "        n_samples, n_features = X.shape\n",
        "        parent_impurity = self._gini(y)\n",
        "\n",
        "        for feature_idx in range(n_features):\n",
        "            thresholds = np.unique(X[:, feature_idx])\n",
        "            for t in thresholds:\n",
        "                left = y[X[:, feature_idx] <= t]\n",
        "                right = y[X[:, feature_idx] > t]\n",
        "                if len(left) < self.min_samples_split or len(right) < self.min_samples_split:\n",
        "                    continue\n",
        "                left_impurity = self._gini(left)\n",
        "                right_impurity = self._gini(right)\n",
        "                weighted_impurity = (len(left) * left_impurity + len(right) * right_impurity) / len(y)\n",
        "                gain = parent_impurity - weighted_impurity\n",
        "                if gain > best_gain:\n",
        "                    best_gain = gain\n",
        "                    best_idx = feature_idx\n",
        "                    best_thresh = t\n",
        "        return best_idx, best_thresh\n",
        "\n",
        "    def _build_tree(self, X, y, depth):\n",
        "        y = np.array(y, dtype=int).flatten()  # 再次强制为整数型 numpy array\n",
        "\n",
        "        if len(np.unique(y)) == 1 or depth >= self.max_depth or len(y) < self.min_samples_split:\n",
        "            values, counts = np.unique(y, return_counts=True)\n",
        "            majority_class = values[np.argmax(counts)]\n",
        "            return {'leaf': True, 'label': majority_class}\n",
        "\n",
        "        feat_idx, thresh = self._best_split(X, y)\n",
        "        if feat_idx is None:\n",
        "            values, counts = np.unique(y, return_counts=True)\n",
        "            majority_class = values[np.argmax(counts)]\n",
        "            return {'leaf': True, 'label': majority_class}\n",
        "\n",
        "        left_mask = X[:, feat_idx] <= thresh\n",
        "        right_mask = ~left_mask\n",
        "\n",
        "        return {\n",
        "            'leaf': False,\n",
        "            'feature_index': feat_idx,\n",
        "            'threshold': thresh,\n",
        "            'left': self._build_tree(X[left_mask], y[left_mask], depth + 1),\n",
        "            'right': self._build_tree(X[right_mask], y[right_mask], depth + 1)\n",
        "        }\n",
        "\n",
        "    def _predict_one(self, x, node):\n",
        "        if node['leaf']:\n",
        "            return node['label']\n",
        "        if x[node['feature_index']] <= node['threshold']:\n",
        "            return self._predict_one(x, node['left'])\n",
        "        else:\n",
        "            return self._predict_one(x, node['right'])\n",
        "\n",
        "\n",
        "\"\"\"\n",
        "\n",
        "with open(\"rice_ml/decision_tree.py\", \"w\") as f:\n",
        "    f.write(tree_code)\n"
      ],
      "metadata": {
        "id": "Tu7Xxf9x-I-Q"
      },
      "execution_count": 80,
      "outputs": []
    },
    {
      "cell_type": "code",
      "source": [
        "import importlib\n",
        "import rice_ml.decision_tree\n",
        "importlib.reload(rice_ml.decision_tree)\n"
      ],
      "metadata": {
        "colab": {
          "base_uri": "https://localhost:8080/"
        },
        "id": "DZW0Bv5fKEvw",
        "outputId": "585537af-00d3-40af-a7de-bd6a007fa1cd"
      },
      "execution_count": 75,
      "outputs": [
        {
          "output_type": "execute_result",
          "data": {
            "text/plain": [
              "<module 'rice_ml.decision_tree' from '/content/rice_ml/decision_tree.py'>"
            ]
          },
          "metadata": {},
          "execution_count": 75
        }
      ]
    },
    {
      "cell_type": "code",
      "source": [
        "import os\n",
        "\n",
        "os.makedirs(\"rice_ml\", exist_ok=True)\n",
        "\n",
        "boosting_code = \"\"\"\n",
        "import numpy as np\n",
        "from rice_ml.decision_tree import DecisionTree\n",
        "\n",
        "class AdaBoost:\n",
        "    def __init__(self, n_estimators=10):\n",
        "        self.n_estimators = n_estimators\n",
        "        self.models = []\n",
        "        self.alphas = []\n",
        "\n",
        "    def fit(self, X, y):\n",
        "        y_mapped = np.where(y == 0, -1, 1)\n",
        "        n_samples = len(y)\n",
        "        weights = np.ones(n_samples) / n_samples\n",
        "\n",
        "        for _ in range(self.n_estimators):\n",
        "            stump = DecisionTree(max_depth=1)\n",
        "            stump.fit(X, y)\n",
        "\n",
        "            y_pred = stump.predict(X)\n",
        "            y_pred = np.array(y_pred).astype(int)\n",
        "            y_pred_mapped = np.where(y_pred == 0, -1, 1)\n",
        "\n",
        "            error = np.sum(weights[y_pred_mapped != y_mapped])\n",
        "            error = max(error, 1e-10)\n",
        "            alpha = 0.5 * np.log((1 - error) / error)\n",
        "\n",
        "            weights *= np.exp(-alpha * y_mapped * y_pred_mapped)\n",
        "            weights /= np.sum(weights)\n",
        "\n",
        "            self.models.append(stump)\n",
        "            self.alphas.append(alpha)\n",
        "\n",
        "    def predict(self, X):\n",
        "        clf_preds = np.array([\n",
        "            alpha * np.where(model.predict(X) == 0, -1, 1)\n",
        "            for model, alpha in zip(self.models, self.alphas)\n",
        "        ])\n",
        "        final_pred = np.sign(np.sum(clf_preds, axis=0))\n",
        "        return np.where(final_pred == -1, 0, 1)\n",
        "\n",
        "\n",
        "\"\"\"\n",
        "\n",
        "with open(\"rice_ml/boosting.py\", \"w\") as f:\n",
        "    f.write(boosting_code)\n"
      ],
      "metadata": {
        "id": "ptExnSND-JC8"
      },
      "execution_count": 1,
      "outputs": []
    },
    {
      "cell_type": "code",
      "source": [
        "import importlib\n",
        "import rice_ml.decision_tree\n",
        "import rice_ml.boosting\n",
        "importlib.reload(rice_ml.decision_tree)\n",
        "importlib.reload(rice_ml.boosting)\n",
        "\n",
        "\n",
        "from rice_ml.boosting import AdaBoost\n",
        "from rice_ml.metrics import accuracy\n",
        "import numpy as np\n",
        "import pandas as pd\n",
        "\n",
        "# 1. Preprocess and sample data\n",
        "df_boost = df.copy()\n",
        "df_boost = df_boost[(df_boost['pickup_longitude'] != 0) & (df_boost['dropoff_longitude'] != 0)]\n",
        "df_boost = df_boost.dropna(subset=[\n",
        "    'pickup_latitude', 'pickup_longitude', 'dropoff_latitude',\n",
        "    'dropoff_longitude', 'passenger_count', 'fare_amount', 'pickup_datetime'\n",
        "])\n",
        "df_boost['pickup_datetime'] = pd.to_datetime(df_boost['pickup_datetime'], errors='coerce')\n",
        "df_boost = df_boost.dropna(subset=['pickup_datetime'])\n",
        "df_boost['hour'] = df_boost['pickup_datetime'].dt.hour\n",
        "\n",
        "# Sample 5000 rows to speed up training\n",
        "df_boost = df_boost.sample(n=5000, random_state=42)\n",
        "\n",
        "# 2. Create features and binary label (is_high_fare)\n",
        "features = ['pickup_latitude', 'pickup_longitude', 'dropoff_latitude',\n",
        "            'dropoff_longitude', 'passenger_count', 'hour']\n",
        "X = df_boost[features].values\n",
        "y = (df_boost['fare_amount'] > 15).astype(int).values\n",
        "\n",
        "# 3. Split into train / validation / test sets\n",
        "n = len(X)\n",
        "train_end = int(0.6 * n)\n",
        "val_end = int(0.8 * n)\n",
        "X_train, X_val, X_test = X[:train_end], X[train_end:val_end], X[val_end:]\n",
        "y_train, y_val, y_test = y[:train_end], y[train_end:val_end], y[val_end:]\n",
        "\n",
        "# 4. Train AdaBoost classifier\n",
        "boost = AdaBoost(n_estimators=20)\n",
        "boost.fit(X_train, y_train)\n",
        "\n",
        "# 5. Evaluate on validation and test sets\n",
        "y_val_pred = boost.predict(X_val)\n",
        "y_test_pred = boost.predict(X_test)\n",
        "\n",
        "val_acc = accuracy(y_val, y_val_pred)\n",
        "test_acc = accuracy(y_test, y_test_pred)\n",
        "\n",
        "print(\"Validation Accuracy:\", val_acc)\n",
        "print(\"Test Accuracy:\", test_acc)\n"
      ],
      "metadata": {
        "colab": {
          "base_uri": "https://localhost:8080/"
        },
        "id": "nkYIRc1x-JFZ",
        "outputId": "bcd003b9-eef6-441e-a29f-4d6b0925da70"
      },
      "execution_count": 83,
      "outputs": [
        {
          "output_type": "stream",
          "name": "stdout",
          "text": [
            "Validation Accuracy: 0.878\n",
            "Test Accuracy: 0.85\n"
          ]
        }
      ]
    },
    {
      "cell_type": "code",
      "source": [
        "import os\n",
        "\n",
        "os.makedirs(\"rice_ml\", exist_ok=True)\n",
        "\n",
        "kmeans_code = \"\"\"\n",
        "import numpy as np\n",
        "\n",
        "class KMeans:\n",
        "    def __init__(self, k=3, max_iters=100, tol=1e-4, random_state=None):\n",
        "        self.k = k\n",
        "        self.max_iters = max_iters\n",
        "        self.tol = tol\n",
        "        self.random_state = random_state\n",
        "        self.centroids = None\n",
        "        self.labels_ = None\n",
        "\n",
        "    def fit(self, X):\n",
        "        if self.random_state is not None:\n",
        "            np.random.seed(self.random_state)\n",
        "\n",
        "        # Step 1: Initialize k random centroids from the data\n",
        "        random_idx = np.random.choice(len(X), self.k, replace=False)\n",
        "        self.centroids = X[random_idx]\n",
        "\n",
        "        for _ in range(self.max_iters):\n",
        "            # Step 2: Assign each sample to the nearest centroid\n",
        "            distances = self._compute_distances(X)\n",
        "            labels = np.argmin(distances, axis=1)\n",
        "\n",
        "            # Step 3: Compute new centroids\n",
        "            new_centroids = np.array([\n",
        "                X[labels == j].mean(axis=0) if np.any(labels == j) else self.centroids[j]\n",
        "                for j in range(self.k)\n",
        "            ])\n",
        "\n",
        "            # Step 4: Check for convergence\n",
        "            if np.linalg.norm(self.centroids - new_centroids) < self.tol:\n",
        "                break\n",
        "\n",
        "            self.centroids = new_centroids\n",
        "\n",
        "        self.labels_ = labels\n",
        "\n",
        "    def predict(self, X):\n",
        "        distances = self._compute_distances(X)\n",
        "        return np.argmin(distances, axis=1)\n",
        "\n",
        "    def _compute_distances(self, X):\n",
        "        return np.linalg.norm(X[:, np.newaxis] - self.centroids, axis=2)\n",
        "\"\"\"\n",
        "\n",
        "with open(\"rice_ml/kmeans.py\", \"w\") as f:\n",
        "    f.write(kmeans_code)\n"
      ],
      "metadata": {
        "id": "CFIZ1qqJ-JHe"
      },
      "execution_count": 84,
      "outputs": []
    },
    {
      "cell_type": "code",
      "source": [
        "from rice_ml.kmeans import KMeans\n",
        "import matplotlib.pyplot as plt\n",
        "import pandas as pd\n",
        "import numpy as np\n",
        "\n",
        "# Step 1: Select pickup location data (latitude and longitude)\n",
        "df_km = df.copy()\n",
        "df_km = df_km[(df_km['pickup_longitude'] != 0) & (df_km['pickup_latitude'] != 0)]\n",
        "df_km = df_km.dropna(subset=['pickup_latitude', 'pickup_longitude'])\n",
        "\n",
        "# Sample 3000 points for faster visualization\n",
        "df_km = df_km[['pickup_latitude', 'pickup_longitude']].sample(n=3000, random_state=42)\n",
        "X = df_km.values\n",
        "\n",
        "# Step 2: Train KMeans model\n",
        "kmeans = KMeans(k=5, max_iters=100, tol=1e-4, random_state=42)\n",
        "kmeans.fit(X)\n",
        "labels = kmeans.labels_\n",
        "centroids = kmeans.centroids\n",
        "\n",
        "# Step 3: Visualize clustering results\n",
        "plt.figure(figsize=(8, 6))\n",
        "for i in range(kmeans.k):\n",
        "    plt.scatter(X[labels == i][:, 1], X[labels == i][:, 0], label=f'Cluster {i}', s=10)\n",
        "\n",
        "# Plot centroids\n",
        "plt.scatter(centroids[:, 1], centroids[:, 0], color='black', marker='x', s=100, label='Centroids')\n",
        "\n",
        "plt.xlabel(\"Longitude\")\n",
        "plt.ylabel(\"Latitude\")\n",
        "plt.title(\"K-Means Clustering of Uber Pickup Locations\")\n",
        "plt.legend()\n",
        "plt.grid(True)\n",
        "plt.show()\n"
      ],
      "metadata": {
        "colab": {
          "base_uri": "https://localhost:8080/",
          "height": 564
        },
        "id": "OvVOkfCTQ-R6",
        "outputId": "f673dc28-b007-4e42-d51c-69f2ee2bf7e0"
      },
      "execution_count": 86,
      "outputs": [
        {
          "output_type": "display_data",
          "data": {
            "text/plain": [
              "<Figure size 800x600 with 1 Axes>"
            ],
            "image/png": "[encoded data removed]"
          },
          "metadata": {}
        }
      ]
    },
    {
      "cell_type": "code",
      "source": [
        "import os\n",
        "\n",
        "os.makedirs(\"rice_ml\", exist_ok=True)\n",
        "\n",
        "dbscan_code = \"\"\"\n",
        "import numpy as np\n",
        "\n",
        "class DBSCAN:\n",
        "    def __init__(self, eps=0.5, min_samples=5):\n",
        "        # eps: neighborhood radius\n",
        "        # min_samples: minimum number of points to form a dense region\n",
        "        self.eps = eps\n",
        "        self.min_samples = min_samples\n",
        "        self.labels_ = None\n",
        "\n",
        "    def fit(self, X):\n",
        "        n = len(X)\n",
        "        labels = -1 * np.ones(n, dtype=int)  # -1 means noise\n",
        "        cluster_id = 0\n",
        "        visited = np.zeros(n, dtype=bool)\n",
        "\n",
        "        for i in range(n):\n",
        "            if visited[i]:\n",
        "                continue\n",
        "            visited[i] = True\n",
        "            neighbors = self._region_query(X, i)\n",
        "            if len(neighbors) < self.min_samples:\n",
        "                labels[i] = -1  # mark as noise\n",
        "            else:\n",
        "                self._expand_cluster(X, labels, i, neighbors, cluster_id, visited)\n",
        "                cluster_id += 1\n",
        "\n",
        "        self.labels_ = labels\n",
        "\n",
        "    def _expand_cluster(self, X, labels, i, neighbors, cluster_id, visited):\n",
        "        labels[i] = cluster_id\n",
        "        queue = list(neighbors)\n",
        "        while queue:\n",
        "            j = queue.pop(0)\n",
        "            if not visited[j]:\n",
        "                visited[j] = True\n",
        "                j_neighbors = self._region_query(X, j)\n",
        "                if len(j_neighbors) >= self.min_samples:\n",
        "                    queue.extend(j_neighbors)\n",
        "            if labels[j] == -1:\n",
        "                labels[j] = cluster_id\n",
        "\n",
        "    def _region_query(self, X, idx):\n",
        "        # Return indices of neighbors within eps distance\n",
        "        distances = np.linalg.norm(X - X[idx], axis=1)\n",
        "        return list(np.where(distances <= self.eps)[0])\n",
        "\"\"\"\n",
        "\n",
        "with open(\"rice_ml/dbscan.py\", \"w\") as f:\n",
        "    f.write(dbscan_code)\n"
      ],
      "metadata": {
        "id": "sIQ5i9MSQ-UG"
      },
      "execution_count": 87,
      "outputs": []
    },
    {
      "cell_type": "code",
      "source": [
        "from rice_ml.dbscan import DBSCAN\n",
        "import matplotlib.pyplot as plt\n",
        "import pandas as pd\n",
        "import numpy as np\n",
        "\n",
        "# Step 1: Prepare latitude and longitude data\n",
        "df_db = df.copy()\n",
        "df_db = df_db[(df_db['pickup_latitude'] != 0) & (df_db['pickup_longitude'] != 0)]\n",
        "df_db = df_db.dropna(subset=['pickup_latitude', 'pickup_longitude'])\n",
        "\n",
        "# Sample 1000 points to reduce runtime\n",
        "df_db = df_db[['pickup_latitude', 'pickup_longitude']].sample(n=1000, random_state=42)\n",
        "X = df_db.values\n",
        "\n",
        "# Step 2: Train DBSCAN model\n",
        "model = DBSCAN(eps=0.01, min_samples=5)  # eps should be small for GPS data\n",
        "model.fit(X)\n",
        "\n",
        "# Step 3: Visualize clustering results\n",
        "labels = model.labels_\n",
        "unique_labels = set(labels)\n",
        "\n",
        "plt.figure(figsize=(8, 6))\n",
        "for label in unique_labels:\n",
        "    if label == -1:\n",
        "        # Noise points\n",
        "        color = 'k'\n",
        "        label_name = 'Noise'\n",
        "    else:\n",
        "        color = plt.cm.tab10(label % 10)\n",
        "        label_name = f'Cluster {label}'\n",
        "    plt.scatter(X[labels == label][:, 1], X[labels == label][:, 0],\n",
        "                s=10, c=[color], label=label_name)\n",
        "\n",
        "plt.xlabel(\"Longitude\")\n",
        "plt.ylabel(\"Latitude\")\n",
        "plt.title(\"DBSCAN Clustering of Uber Pickup Locations\")\n",
        "plt.legend()\n",
        "plt.grid(True)\n",
        "plt.show()\n"
      ],
      "metadata": {
        "colab": {
          "base_uri": "https://localhost:8080/",
          "height": 564
        },
        "id": "6lBJaO5LQ-W5",
        "outputId": "1bf51d6e-37a7-48a6-b3d5-0c7c25e9a4df"
      },
      "execution_count": 88,
      "outputs": [
        {
          "output_type": "display_data",
          "data": {
            "text/plain": [
              "<Figure size 800x600 with 1 Axes>"
            ],
            "image/png": "[encoded data removed]"
          },
          "metadata": {}
        }
      ]
    },
    {
      "cell_type": "code",
      "source": [
        "import os\n",
        "\n",
        "os.makedirs(\"rice_ml\", exist_ok=True)\n",
        "\n",
        "pca_code = \"\"\"\n",
        "import numpy as np\n",
        "\n",
        "class PCA:\n",
        "    def __init__(self, n_components):\n",
        "        # Number of principal components to keep\n",
        "        self.n_components = n_components\n",
        "        self.components_ = None\n",
        "        self.mean_ = None\n",
        "\n",
        "    def fit(self, X):\n",
        "        # Step 1: Center the data\n",
        "        self.mean_ = np.mean(X, axis=0)\n",
        "        X_centered = X - self.mean_\n",
        "\n",
        "        # Step 2: Compute covariance matrix\n",
        "        cov = np.cov(X_centered, rowvar=False)\n",
        "\n",
        "        # Step 3: Eigen decomposition of covariance matrix\n",
        "        eigvals, eigvecs = np.linalg.eigh(cov)\n",
        "\n",
        "        # Step 4: Sort eigenvectors by decreasing eigenvalues\n",
        "        sorted_idx = np.argsort(eigvals)[::-1]\n",
        "        eigvecs = eigvecs[:, sorted_idx]\n",
        "        eigvals = eigvals[sorted_idx]\n",
        "\n",
        "        # Step 5: Keep top n_components\n",
        "        self.components_ = eigvecs[:, :self.n_components]\n",
        "\n",
        "    def transform(self, X):\n",
        "        # Project data onto principal components\n",
        "        X_centered = X - self.mean_\n",
        "        return np.dot(X_centered, self.components_)\n",
        "\n",
        "    def fit_transform(self, X):\n",
        "        self.fit(X)\n",
        "        return self.transform(X)\n",
        "\"\"\"\n",
        "\n",
        "with open(\"rice_ml/pca.py\", \"w\") as f:\n",
        "    f.write(pca_code)\n"
      ],
      "metadata": {
        "id": "7Rv2UfUX-JJ1"
      },
      "execution_count": 89,
      "outputs": []
    },
    {
      "cell_type": "code",
      "source": [
        "from rice_ml.pca import PCA\n",
        "import matplotlib.pyplot as plt\n",
        "import pandas as pd\n",
        "import numpy as np\n",
        "\n",
        "# Step 1: Select numeric features for PCA\n",
        "df_pca = df.copy()\n",
        "df_pca = df_pca.dropna(subset=[\n",
        "    'pickup_latitude', 'pickup_longitude',\n",
        "    'dropoff_latitude', 'dropoff_longitude',\n",
        "    'passenger_count', 'fare_amount', 'pickup_datetime'\n",
        "])\n",
        "\n",
        "# Extract hour from datetime\n",
        "df_pca['pickup_datetime'] = pd.to_datetime(df_pca['pickup_datetime'])\n",
        "df_pca['hour'] = df_pca['pickup_datetime'].dt.hour\n",
        "\n",
        "# Step 2: Select features and sample 2000 rows for speed\n",
        "features = ['pickup_latitude', 'pickup_longitude',\n",
        "            'dropoff_latitude', 'dropoff_longitude',\n",
        "            'passenger_count', 'fare_amount', 'hour']\n",
        "X = df_pca[features].sample(n=2000, random_state=42).values\n",
        "\n",
        "# Step 3: Fit PCA and transform data to 2D\n",
        "pca = PCA(n_components=2)\n",
        "X_pca = pca.fit_transform(X)\n",
        "\n",
        "# Step 4: Visualize 2D projection\n",
        "plt.figure(figsize=(8, 6))\n",
        "plt.scatter(X_pca[:, 0], X_pca[:, 1], s=10, alpha=0.6, cmap='viridis')\n",
        "plt.xlabel(\"Principal Component 1\")\n",
        "plt.ylabel(\"Principal Component 2\")\n",
        "plt.title(\"PCA Projection of Uber Ride Features (2D)\")\n",
        "plt.grid(True)\n",
        "plt.show()\n"
      ],
      "metadata": {
        "colab": {
          "base_uri": "https://localhost:8080/",
          "height": 599
        },
        "id": "zMU4igg9-JML",
        "outputId": "0f8ff4da-ccfd-45f2-c513-4080bf27faaf"
      },
      "execution_count": 90,
      "outputs": [
        {
          "output_type": "stream",
          "name": "stderr",
          "text": [
            "<ipython-input-90-fc0555846098>:30: UserWarning: No data for colormapping provided via 'c'. Parameters 'cmap' will be ignored\n",
            "  plt.scatter(X_pca[:, 0], X_pca[:, 1], s=10, alpha=0.6, cmap='viridis')\n"
          ]
        },
        {
          "output_type": "display_data",
          "data": {
            "text/plain": [
              "<Figure size 800x600 with 1 Axes>"
            ],
            "image/png": "[encoded data removed]"
          },
          "metadata": {}
        }
      ]
    },
    {
      "cell_type": "code",
      "source": [
        "from google.colab import files\n",
        "files.download(\"rice_ml/neural_network.py\")"
      ],
      "metadata": {
        "colab": {
          "base_uri": "https://localhost:8080/",
          "height": 17
        },
        "id": "47ZYJ9gxSr7M",
        "outputId": "04bff14f-3ea9-422c-8932-e739116d9a77"
      },
      "execution_count": 91,
      "outputs": [
        {
          "output_type": "display_data",
          "data": {
            "text/plain": [
              "<IPython.core.display.Javascript object>"
            ],
            "application/javascript": [
              "\n",
              "    async function download(id, filename, size) {\n",
              "      if (!google.colab.kernel.accessAllowed) {\n",
              "        return;\n",
              "      }\n",
              "      const div = document.createElement('div');\n",
              "      const label = document.createElement('label');\n",
              "      label.textContent = `Downloading \"${filename}\": `;\n",
              "      div.appendChild(label);\n",
              "      const progress = document.createElement('progress');\n",
              "      progress.max = size;\n",
              "      div.appendChild(progress);\n",
              "      document.body.appendChild(div);\n",
              "\n",
              "      const buffers = [];\n",
              "      let downloaded = 0;\n",
              "\n",
              "      const channel = await google.colab.kernel.comms.open(id);\n",
              "      // Send a message to notify the kernel that we're ready.\n",
              "      channel.send({})\n",
              "\n",
              "      for await (const message of channel.messages) {\n",
              "        // Send a message to notify the kernel that we're ready.\n",
              "        channel.send({})\n",
              "        if (message.buffers) {\n",
              "          for (const buffer of message.buffers) {\n",
              "            buffers.push(buffer);\n",
              "            downloaded += buffer.byteLength;\n",
              "            progress.value = downloaded;\n",
              "          }\n",
              "        }\n",
              "      }\n",
              "      const blob = new Blob(buffers, {type: 'application/binary'});\n",
              "      const a = document.createElement('a');\n",
              "      a.href = window.URL.createObjectURL(blob);\n",
              "      a.download = filename;\n",
              "      div.appendChild(a);\n",
              "      a.click();\n",
              "      div.remove();\n",
              "    }\n",
              "  "
            ]
          },
          "metadata": {}
        },
        {
          "output_type": "display_data",
          "data": {
            "text/plain": [
              "<IPython.core.display.Javascript object>"
            ],
            "application/javascript": [
              "download(\"download_3cb60374-72f8-4adb-b271-f55a79791787\", \"neural_network.py\", 1730)"
            ]
          },
          "metadata": {}
        }
      ]
    },
    {
      "cell_type": "code",
      "source": [
        "from google.colab import files\n",
        "files.download(\"rice_ml/decision_tree.py\")"
      ],
      "metadata": {
        "colab": {
          "base_uri": "https://localhost:8080/",
          "height": 17
        },
        "id": "Cb3JgcCISr-I",
        "outputId": "c6242d04-cbb0-41cb-d209-75d1f4e650e0"
      },
      "execution_count": 92,
      "outputs": [
        {
          "output_type": "display_data",
          "data": {
            "text/plain": [
              "<IPython.core.display.Javascript object>"
            ],
            "application/javascript": [
              "\n",
              "    async function download(id, filename, size) {\n",
              "      if (!google.colab.kernel.accessAllowed) {\n",
              "        return;\n",
              "      }\n",
              "      const div = document.createElement('div');\n",
              "      const label = document.createElement('label');\n",
              "      label.textContent = `Downloading \"${filename}\": `;\n",
              "      div.appendChild(label);\n",
              "      const progress = document.createElement('progress');\n",
              "      progress.max = size;\n",
              "      div.appendChild(progress);\n",
              "      document.body.appendChild(div);\n",
              "\n",
              "      const buffers = [];\n",
              "      let downloaded = 0;\n",
              "\n",
              "      const channel = await google.colab.kernel.comms.open(id);\n",
              "      // Send a message to notify the kernel that we're ready.\n",
              "      channel.send({})\n",
              "\n",
              "      for await (const message of channel.messages) {\n",
              "        // Send a message to notify the kernel that we're ready.\n",
              "        channel.send({})\n",
              "        if (message.buffers) {\n",
              "          for (const buffer of message.buffers) {\n",
              "            buffers.push(buffer);\n",
              "            downloaded += buffer.byteLength;\n",
              "            progress.value = downloaded;\n",
              "          }\n",
              "        }\n",
              "      }\n",
              "      const blob = new Blob(buffers, {type: 'application/binary'});\n",
              "      const a = document.createElement('a');\n",
              "      a.href = window.URL.createObjectURL(blob);\n",
              "      a.download = filename;\n",
              "      div.appendChild(a);\n",
              "      a.click();\n",
              "      div.remove();\n",
              "    }\n",
              "  "
            ]
          },
          "metadata": {}
        },
        {
          "output_type": "display_data",
          "data": {
            "text/plain": [
              "<IPython.core.display.Javascript object>"
            ],
            "application/javascript": [
              "download(\"download_27f24ea9-eb2d-4656-aed0-e879162329ca\", \"decision_tree.py\", 2954)"
            ]
          },
          "metadata": {}
        }
      ]
    },
    {
      "cell_type": "code",
      "source": [
        "from google.colab import files\n",
        "files.download(\"rice_ml/random_forest.py\")"
      ],
      "metadata": {
        "colab": {
          "base_uri": "https://localhost:8080/",
          "height": 17
        },
        "id": "vS4VxoS2SsBa",
        "outputId": "dfe573d8-9c70-4833-f3ab-12aed70116cf"
      },
      "execution_count": 93,
      "outputs": [
        {
          "output_type": "display_data",
          "data": {
            "text/plain": [
              "<IPython.core.display.Javascript object>"
            ],
            "application/javascript": [
              "\n",
              "    async function download(id, filename, size) {\n",
              "      if (!google.colab.kernel.accessAllowed) {\n",
              "        return;\n",
              "      }\n",
              "      const div = document.createElement('div');\n",
              "      const label = document.createElement('label');\n",
              "      label.textContent = `Downloading \"${filename}\": `;\n",
              "      div.appendChild(label);\n",
              "      const progress = document.createElement('progress');\n",
              "      progress.max = size;\n",
              "      div.appendChild(progress);\n",
              "      document.body.appendChild(div);\n",
              "\n",
              "      const buffers = [];\n",
              "      let downloaded = 0;\n",
              "\n",
              "      const channel = await google.colab.kernel.comms.open(id);\n",
              "      // Send a message to notify the kernel that we're ready.\n",
              "      channel.send({})\n",
              "\n",
              "      for await (const message of channel.messages) {\n",
              "        // Send a message to notify the kernel that we're ready.\n",
              "        channel.send({})\n",
              "        if (message.buffers) {\n",
              "          for (const buffer of message.buffers) {\n",
              "            buffers.push(buffer);\n",
              "            downloaded += buffer.byteLength;\n",
              "            progress.value = downloaded;\n",
              "          }\n",
              "        }\n",
              "      }\n",
              "      const blob = new Blob(buffers, {type: 'application/binary'});\n",
              "      const a = document.createElement('a');\n",
              "      a.href = window.URL.createObjectURL(blob);\n",
              "      a.download = filename;\n",
              "      div.appendChild(a);\n",
              "      a.click();\n",
              "      div.remove();\n",
              "    }\n",
              "  "
            ]
          },
          "metadata": {}
        },
        {
          "output_type": "display_data",
          "data": {
            "text/plain": [
              "<IPython.core.display.Javascript object>"
            ],
            "application/javascript": [
              "download(\"download_5eb45be2-fa76-48ea-b6cd-3e4e316be145\", \"random_forest.py\", 1364)"
            ]
          },
          "metadata": {}
        }
      ]
    },
    {
      "cell_type": "code",
      "source": [
        "from google.colab import files\n",
        "files.download(\"rice_ml/boosting.py\")"
      ],
      "metadata": {
        "colab": {
          "base_uri": "https://localhost:8080/",
          "height": 17
        },
        "id": "0H0WXTm4SsFB",
        "outputId": "8c3645ae-6693-40b7-a76c-ffb895e3fdef"
      },
      "execution_count": 2,
      "outputs": [
        {
          "output_type": "display_data",
          "data": {
            "text/plain": [
              "<IPython.core.display.Javascript object>"
            ],
            "application/javascript": [
              "\n",
              "    async function download(id, filename, size) {\n",
              "      if (!google.colab.kernel.accessAllowed) {\n",
              "        return;\n",
              "      }\n",
              "      const div = document.createElement('div');\n",
              "      const label = document.createElement('label');\n",
              "      label.textContent = `Downloading \"${filename}\": `;\n",
              "      div.appendChild(label);\n",
              "      const progress = document.createElement('progress');\n",
              "      progress.max = size;\n",
              "      div.appendChild(progress);\n",
              "      document.body.appendChild(div);\n",
              "\n",
              "      const buffers = [];\n",
              "      let downloaded = 0;\n",
              "\n",
              "      const channel = await google.colab.kernel.comms.open(id);\n",
              "      // Send a message to notify the kernel that we're ready.\n",
              "      channel.send({})\n",
              "\n",
              "      for await (const message of channel.messages) {\n",
              "        // Send a message to notify the kernel that we're ready.\n",
              "        channel.send({})\n",
              "        if (message.buffers) {\n",
              "          for (const buffer of message.buffers) {\n",
              "            buffers.push(buffer);\n",
              "            downloaded += buffer.byteLength;\n",
              "            progress.value = downloaded;\n",
              "          }\n",
              "        }\n",
              "      }\n",
              "      const blob = new Blob(buffers, {type: 'application/binary'});\n",
              "      const a = document.createElement('a');\n",
              "      a.href = window.URL.createObjectURL(blob);\n",
              "      a.download = filename;\n",
              "      div.appendChild(a);\n",
              "      a.click();\n",
              "      div.remove();\n",
              "    }\n",
              "  "
            ]
          },
          "metadata": {}
        },
        {
          "output_type": "display_data",
          "data": {
            "text/plain": [
              "<IPython.core.display.Javascript object>"
            ],
            "application/javascript": [
              "download(\"download_9fb5de2a-a306-42de-93e7-ddff5cdf7784\", \"boosting.py\", 1263)"
            ]
          },
          "metadata": {}
        }
      ]
    },
    {
      "cell_type": "code",
      "source": [
        "from google.colab import files\n",
        "files.download(\"rice_ml/kmeans.py\")"
      ],
      "metadata": {
        "colab": {
          "base_uri": "https://localhost:8080/",
          "height": 17
        },
        "id": "EPhO5aWlS1vA",
        "outputId": "2409fce6-f300-4687-e245-ebed0ad3adf8"
      },
      "execution_count": 95,
      "outputs": [
        {
          "output_type": "display_data",
          "data": {
            "text/plain": [
              "<IPython.core.display.Javascript object>"
            ],
            "application/javascript": [
              "\n",
              "    async function download(id, filename, size) {\n",
              "      if (!google.colab.kernel.accessAllowed) {\n",
              "        return;\n",
              "      }\n",
              "      const div = document.createElement('div');\n",
              "      const label = document.createElement('label');\n",
              "      label.textContent = `Downloading \"${filename}\": `;\n",
              "      div.appendChild(label);\n",
              "      const progress = document.createElement('progress');\n",
              "      progress.max = size;\n",
              "      div.appendChild(progress);\n",
              "      document.body.appendChild(div);\n",
              "\n",
              "      const buffers = [];\n",
              "      let downloaded = 0;\n",
              "\n",
              "      const channel = await google.colab.kernel.comms.open(id);\n",
              "      // Send a message to notify the kernel that we're ready.\n",
              "      channel.send({})\n",
              "\n",
              "      for await (const message of channel.messages) {\n",
              "        // Send a message to notify the kernel that we're ready.\n",
              "        channel.send({})\n",
              "        if (message.buffers) {\n",
              "          for (const buffer of message.buffers) {\n",
              "            buffers.push(buffer);\n",
              "            downloaded += buffer.byteLength;\n",
              "            progress.value = downloaded;\n",
              "          }\n",
              "        }\n",
              "      }\n",
              "      const blob = new Blob(buffers, {type: 'application/binary'});\n",
              "      const a = document.createElement('a');\n",
              "      a.href = window.URL.createObjectURL(blob);\n",
              "      a.download = filename;\n",
              "      div.appendChild(a);\n",
              "      a.click();\n",
              "      div.remove();\n",
              "    }\n",
              "  "
            ]
          },
          "metadata": {}
        },
        {
          "output_type": "display_data",
          "data": {
            "text/plain": [
              "<IPython.core.display.Javascript object>"
            ],
            "application/javascript": [
              "download(\"download_3f1dc25f-f828-4951-805f-8b2cc491c4a4\", \"kmeans.py\", 1446)"
            ]
          },
          "metadata": {}
        }
      ]
    },
    {
      "cell_type": "code",
      "source": [
        "from google.colab import files\n",
        "files.download(\"rice_ml/dbscan.py\")"
      ],
      "metadata": {
        "colab": {
          "base_uri": "https://localhost:8080/",
          "height": 17
        },
        "id": "ebsFifTxS1xO",
        "outputId": "93bd75a8-1a99-416b-8ec4-e187dabb50de"
      },
      "execution_count": 96,
      "outputs": [
        {
          "output_type": "display_data",
          "data": {
            "text/plain": [
              "<IPython.core.display.Javascript object>"
            ],
            "application/javascript": [
              "\n",
              "    async function download(id, filename, size) {\n",
              "      if (!google.colab.kernel.accessAllowed) {\n",
              "        return;\n",
              "      }\n",
              "      const div = document.createElement('div');\n",
              "      const label = document.createElement('label');\n",
              "      label.textContent = `Downloading \"${filename}\": `;\n",
              "      div.appendChild(label);\n",
              "      const progress = document.createElement('progress');\n",
              "      progress.max = size;\n",
              "      div.appendChild(progress);\n",
              "      document.body.appendChild(div);\n",
              "\n",
              "      const buffers = [];\n",
              "      let downloaded = 0;\n",
              "\n",
              "      const channel = await google.colab.kernel.comms.open(id);\n",
              "      // Send a message to notify the kernel that we're ready.\n",
              "      channel.send({})\n",
              "\n",
              "      for await (const message of channel.messages) {\n",
              "        // Send a message to notify the kernel that we're ready.\n",
              "        channel.send({})\n",
              "        if (message.buffers) {\n",
              "          for (const buffer of message.buffers) {\n",
              "            buffers.push(buffer);\n",
              "            downloaded += buffer.byteLength;\n",
              "            progress.value = downloaded;\n",
              "          }\n",
              "        }\n",
              "      }\n",
              "      const blob = new Blob(buffers, {type: 'application/binary'});\n",
              "      const a = document.createElement('a');\n",
              "      a.href = window.URL.createObjectURL(blob);\n",
              "      a.download = filename;\n",
              "      div.appendChild(a);\n",
              "      a.click();\n",
              "      div.remove();\n",
              "    }\n",
              "  "
            ]
          },
          "metadata": {}
        },
        {
          "output_type": "display_data",
          "data": {
            "text/plain": [
              "<IPython.core.display.Javascript object>"
            ],
            "application/javascript": [
              "download(\"download_ef8ea91c-fb10-47ee-8203-7922af1735ab\", \"dbscan.py\", 1561)"
            ]
          },
          "metadata": {}
        }
      ]
    },
    {
      "cell_type": "code",
      "source": [
        "from google.colab import files\n",
        "files.download(\"rice_ml/pca.py\")"
      ],
      "metadata": {
        "colab": {
          "base_uri": "https://localhost:8080/",
          "height": 17
        },
        "id": "RiiPdEzMS1z0",
        "outputId": "aa86f91d-fb39-46da-852e-45abdcd741a9"
      },
      "execution_count": 97,
      "outputs": [
        {
          "output_type": "display_data",
          "data": {
            "text/plain": [
              "<IPython.core.display.Javascript object>"
            ],
            "application/javascript": [
              "\n",
              "    async function download(id, filename, size) {\n",
              "      if (!google.colab.kernel.accessAllowed) {\n",
              "        return;\n",
              "      }\n",
              "      const div = document.createElement('div');\n",
              "      const label = document.createElement('label');\n",
              "      label.textContent = `Downloading \"${filename}\": `;\n",
              "      div.appendChild(label);\n",
              "      const progress = document.createElement('progress');\n",
              "      progress.max = size;\n",
              "      div.appendChild(progress);\n",
              "      document.body.appendChild(div);\n",
              "\n",
              "      const buffers = [];\n",
              "      let downloaded = 0;\n",
              "\n",
              "      const channel = await google.colab.kernel.comms.open(id);\n",
              "      // Send a message to notify the kernel that we're ready.\n",
              "      channel.send({})\n",
              "\n",
              "      for await (const message of channel.messages) {\n",
              "        // Send a message to notify the kernel that we're ready.\n",
              "        channel.send({})\n",
              "        if (message.buffers) {\n",
              "          for (const buffer of message.buffers) {\n",
              "            buffers.push(buffer);\n",
              "            downloaded += buffer.byteLength;\n",
              "            progress.value = downloaded;\n",
              "          }\n",
              "        }\n",
              "      }\n",
              "      const blob = new Blob(buffers, {type: 'application/binary'});\n",
              "      const a = document.createElement('a');\n",
              "      a.href = window.URL.createObjectURL(blob);\n",
              "      a.download = filename;\n",
              "      div.appendChild(a);\n",
              "      a.click();\n",
              "      div.remove();\n",
              "    }\n",
              "  "
            ]
          },
          "metadata": {}
        },
        {
          "output_type": "display_data",
          "data": {
            "text/plain": [
              "<IPython.core.display.Javascript object>"
            ],
            "application/javascript": [
              "download(\"download_d572341a-1b47-4561-b945-09985ca6d590\", \"pca.py\", 1090)"
            ]
          },
          "metadata": {}
        }
      ]
    },
    {
      "cell_type": "code",
      "source": [],
      "metadata": {
        "id": "gZlsVvwqS12J"
      },
      "execution_count": null,
      "outputs": []
    },
    {
      "cell_type": "code",
      "source": [],
      "metadata": {
        "id": "xa-DkTWjS14Z"
      },
      "execution_count": null,
      "outputs": []
    },
    {
      "cell_type": "code",
      "source": [],
      "metadata": {
        "id": "mvZvD7OwS162"
      },
      "execution_count": null,
      "outputs": []
    }
  ]
}