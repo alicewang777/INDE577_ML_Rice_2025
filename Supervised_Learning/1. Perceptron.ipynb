{
  "nbformat": 4,
  "nbformat_minor": 0,
  "metadata": {
    "colab": {
      "provenance": [],
      "authorship_tag": "ABX9TyOIKt+kQUZmlHspHWtU3Ipp",
      "include_colab_link": true
    },
    "kernelspec": {
      "name": "python3",
      "display_name": "Python 3"
    },
    "language_info": {
      "name": "python"
    }
  },
  "cells": [
    {
      "cell_type": "markdown",
      "metadata": {
        "id": "view-in-github",
        "colab_type": "text"
      },
      "source": [
        "<a href=\"https://colab.research.google.com/github/alicewang777/INDE577_ML_Rice_2025/blob/master/Supervised_Learning/1.%20Perceptron.ipynb\" target=\"_parent\"><img src=\"https://colab.research.google.com/assets/colab-badge.svg\" alt=\"Open In Colab\"/></a>"
      ]
    },
    {
      "cell_type": "markdown",
      "source": [
        "# **The Perceptron**"
      ],
      "metadata": {
        "id": "xaMV6Cs1mXH9"
      }
    },
    {
      "cell_type": "markdown",
      "source": [],
      "metadata": {
        "id": "tn-URTfjmjS_"
      }
    },
    {
      "cell_type": "code",
      "execution_count": 4,
      "metadata": {
        "id": "L19IktaNZe6J",
        "colab": {
          "base_uri": "https://localhost:8080/"
        },
        "outputId": "b7a6b107-c339-4b7f-dba4-f4fa5c9b45d9"
      },
      "outputs": [
        {
          "output_type": "stream",
          "name": "stdout",
          "text": [
            "Cloning into 'INDE577_ML_Rice_2025'...\n",
            "remote: Enumerating objects: 104, done.\u001b[K\n",
            "remote: Counting objects:   0% (1/104)\u001b[K\rremote: Counting objects:   1% (2/104)\u001b[K\rremote: Counting objects:   2% (3/104)\u001b[K\rremote: Counting objects:   3% (4/104)\u001b[K\rremote: Counting objects:   4% (5/104)\u001b[K\rremote: Counting objects:   5% (6/104)\u001b[K\rremote: Counting objects:   6% (7/104)\u001b[K\rremote: Counting objects:   7% (8/104)\u001b[K\rremote: Counting objects:   8% (9/104)\u001b[K\rremote: Counting objects:   9% (10/104)\u001b[K\rremote: Counting objects:  10% (11/104)\u001b[K\rremote: Counting objects:  11% (12/104)\u001b[K\rremote: Counting objects:  12% (13/104)\u001b[K\rremote: Counting objects:  13% (14/104)\u001b[K\rremote: Counting objects:  14% (15/104)\u001b[K\rremote: Counting objects:  15% (16/104)\u001b[K\rremote: Counting objects:  16% (17/104)\u001b[K\rremote: Counting objects:  17% (18/104)\u001b[K\rremote: Counting objects:  18% (19/104)\u001b[K\rremote: Counting objects:  19% (20/104)\u001b[K\rremote: Counting objects:  20% (21/104)\u001b[K\rremote: Counting objects:  21% (22/104)\u001b[K\rremote: Counting objects:  22% (23/104)\u001b[K\rremote: Counting objects:  23% (24/104)\u001b[K\rremote: Counting objects:  24% (25/104)\u001b[K\rremote: Counting objects:  25% (26/104)\u001b[K\rremote: Counting objects:  26% (28/104)\u001b[K\rremote: Counting objects:  27% (29/104)\u001b[K\rremote: Counting objects:  28% (30/104)\u001b[K\rremote: Counting objects:  29% (31/104)\u001b[K\rremote: Counting objects:  30% (32/104)\u001b[K\rremote: Counting objects:  31% (33/104)\u001b[K\rremote: Counting objects:  32% (34/104)\u001b[K\rremote: Counting objects:  33% (35/104)\u001b[K\rremote: Counting objects:  34% (36/104)\u001b[K\rremote: Counting objects:  35% (37/104)\u001b[K\rremote: Counting objects:  36% (38/104)\u001b[K\rremote: Counting objects:  37% (39/104)\u001b[K\rremote: Counting objects:  38% (40/104)\u001b[K\rremote: Counting objects:  39% (41/104)\u001b[K\rremote: Counting objects:  40% (42/104)\u001b[K\rremote: Counting objects:  41% (43/104)\u001b[K\rremote: Counting objects:  42% (44/104)\u001b[K\rremote: Counting objects:  43% (45/104)\u001b[K\rremote: Counting objects:  44% (46/104)\u001b[K\rremote: Counting objects:  45% (47/104)\u001b[K\rremote: Counting objects:  46% (48/104)\u001b[K\rremote: Counting objects:  47% (49/104)\u001b[K\rremote: Counting objects:  48% (50/104)\u001b[K\rremote: Counting objects:  49% (51/104)\u001b[K\rremote: Counting objects:  50% (52/104)\u001b[K\rremote: Counting objects:  51% (54/104)\u001b[K\rremote: Counting objects:  52% (55/104)\u001b[K\rremote: Counting objects:  53% (56/104)\u001b[K\rremote: Counting objects:  54% (57/104)\u001b[K\rremote: Counting objects:  55% (58/104)\u001b[K\rremote: Counting objects:  56% (59/104)\u001b[K\rremote: Counting objects:  57% (60/104)\u001b[K\rremote: Counting objects:  58% (61/104)\u001b[K\rremote: Counting objects:  59% (62/104)\u001b[K\rremote: Counting objects:  60% (63/104)\u001b[K\rremote: Counting objects:  61% (64/104)\u001b[K\rremote: Counting objects:  62% (65/104)\u001b[K\rremote: Counting objects:  63% (66/104)\u001b[K\rremote: Counting objects:  64% (67/104)\u001b[K\rremote: Counting objects:  65% (68/104)\u001b[K\rremote: Counting objects:  66% (69/104)\u001b[K\rremote: Counting objects:  67% (70/104)\u001b[K\rremote: Counting objects:  68% (71/104)\u001b[K\rremote: Counting objects:  69% (72/104)\u001b[K\rremote: Counting objects:  70% (73/104)\u001b[K\rremote: Counting objects:  71% (74/104)\u001b[K\rremote: Counting objects:  72% (75/104)\u001b[K\rremote: Counting objects:  73% (76/104)\u001b[K\rremote: Counting objects:  74% (77/104)\u001b[K\rremote: Counting objects:  75% (78/104)\u001b[K\rremote: Counting objects:  76% (80/104)\u001b[K\rremote: Counting objects:  77% (81/104)\u001b[K\rremote: Counting objects:  78% (82/104)\u001b[K\rremote: Counting objects:  79% (83/104)\u001b[K\rremote: Counting objects:  80% (84/104)\u001b[K\rremote: Counting objects:  81% (85/104)\u001b[K\rremote: Counting objects:  82% (86/104)\u001b[K\rremote: Counting objects:  83% (87/104)\u001b[K\rremote: Counting objects:  84% (88/104)\u001b[K\rremote: Counting objects:  85% (89/104)\u001b[K\rremote: Counting objects:  86% (90/104)\u001b[K\rremote: Counting objects:  87% (91/104)\u001b[K\rremote: Counting objects:  88% (92/104)\u001b[K\rremote: Counting objects:  89% (93/104)\u001b[K\rremote: Counting objects:  90% (94/104)\u001b[K\rremote: Counting objects:  91% (95/104)\u001b[K\rremote: Counting objects:  92% (96/104)\u001b[K\rremote: Counting objects:  93% (97/104)\u001b[K\rremote: Counting objects:  94% (98/104)\u001b[K\rremote: Counting objects:  95% (99/104)\u001b[K\rremote: Counting objects:  96% (100/104)\u001b[K\rremote: Counting objects:  97% (101/104)\u001b[K\rremote: Counting objects:  98% (102/104)\u001b[K\rremote: Counting objects:  99% (103/104)\u001b[K\rremote: Counting objects: 100% (104/104)\u001b[K\rremote: Counting objects: 100% (104/104), done.\u001b[K\n",
            "remote: Compressing objects:   1% (1/84)\u001b[K\rremote: Compressing objects:   2% (2/84)\u001b[K\rremote: Compressing objects:   3% (3/84)\u001b[K\rremote: Compressing objects:   4% (4/84)\u001b[K\rremote: Compressing objects:   5% (5/84)\u001b[K\rremote: Compressing objects:   7% (6/84)\u001b[K\rremote: Compressing objects:   8% (7/84)\u001b[K\rremote: Compressing objects:   9% (8/84)\u001b[K\rremote: Compressing objects:  10% (9/84)\u001b[K\rremote: Compressing objects:  11% (10/84)\u001b[K\rremote: Compressing objects:  13% (11/84)\u001b[K\rremote: Compressing objects:  14% (12/84)\u001b[K\rremote: Compressing objects:  15% (13/84)\u001b[K\rremote: Compressing objects:  16% (14/84)\u001b[K\rremote: Compressing objects:  17% (15/84)\u001b[K\rremote: Compressing objects:  19% (16/84)\u001b[K\rremote: Compressing objects:  20% (17/84)\u001b[K\rremote: Compressing objects:  21% (18/84)\u001b[K\rremote: Compressing objects:  22% (19/84)\u001b[K\rremote: Compressing objects:  23% (20/84)\u001b[K\rremote: Compressing objects:  25% (21/84)\u001b[K\rremote: Compressing objects:  26% (22/84)\u001b[K\rremote: Compressing objects:  27% (23/84)\u001b[K\rremote: Compressing objects:  28% (24/84)\u001b[K\rremote: Compressing objects:  29% (25/84)\u001b[K\rremote: Compressing objects:  30% (26/84)\u001b[K\rremote: Compressing objects:  32% (27/84)\u001b[K\rremote: Compressing objects:  33% (28/84)\u001b[K\rremote: Compressing objects:  34% (29/84)\u001b[K\rremote: Compressing objects:  35% (30/84)\u001b[K\rremote: Compressing objects:  36% (31/84)\u001b[K\rremote: Compressing objects:  38% (32/84)\u001b[K\rremote: Compressing objects:  39% (33/84)\u001b[K\rremote: Compressing objects:  40% (34/84)\u001b[K\rremote: Compressing objects:  41% (35/84)\u001b[K\rremote: Compressing objects:  42% (36/84)\u001b[K\rremote: Compressing objects:  44% (37/84)\u001b[K\rremote: Compressing objects:  45% (38/84)\u001b[K\rremote: Compressing objects:  46% (39/84)\u001b[K\rremote: Compressing objects:  47% (40/84)\u001b[K\rremote: Compressing objects:  48% (41/84)\u001b[K\rremote: Compressing objects:  50% (42/84)\u001b[K\rremote: Compressing objects:  51% (43/84)\u001b[K\rremote: Compressing objects:  52% (44/84)\u001b[K\rremote: Compressing objects:  53% (45/84)\u001b[K\rremote: Compressing objects:  54% (46/84)\u001b[K\rremote: Compressing objects:  55% (47/84)\u001b[K\rremote: Compressing objects:  57% (48/84)\u001b[K\rremote: Compressing objects:  58% (49/84)\u001b[K\rremote: Compressing objects:  59% (50/84)\u001b[K\rremote: Compressing objects:  60% (51/84)\u001b[K\rremote: Compressing objects:  61% (52/84)\u001b[K\rremote: Compressing objects:  63% (53/84)\u001b[K\rremote: Compressing objects:  64% (54/84)\u001b[K\rremote: Compressing objects:  65% (55/84)\u001b[K\rremote: Compressing objects:  66% (56/84)\u001b[K\rremote: Compressing objects:  67% (57/84)\u001b[K\rremote: Compressing objects:  69% (58/84)\u001b[K\rremote: Compressing objects:  70% (59/84)\u001b[K\rremote: Compressing objects:  71% (60/84)\u001b[K\rremote: Compressing objects:  72% (61/84)\u001b[K\rremote: Compressing objects:  73% (62/84)\u001b[K\rremote: Compressing objects:  75% (63/84)\u001b[K\rremote: Compressing objects:  76% (64/84)\u001b[K\rremote: Compressing objects:  77% (65/84)\u001b[K\rremote: Compressing objects:  78% (66/84)\u001b[K\rremote: Compressing objects:  79% (67/84)\u001b[K\rremote: Compressing objects:  80% (68/84)\u001b[K\rremote: Compressing objects:  82% (69/84)\u001b[K\rremote: Compressing objects:  83% (70/84)\u001b[K\rremote: Compressing objects:  84% (71/84)\u001b[K\rremote: Compressing objects:  85% (72/84)\u001b[K\rremote: Compressing objects:  86% (73/84)\u001b[K\rremote: Compressing objects:  88% (74/84)\u001b[K\rremote: Compressing objects:  89% (75/84)\u001b[K\rremote: Compressing objects:  90% (76/84)\u001b[K\rremote: Compressing objects:  91% (77/84)\u001b[K\rremote: Compressing objects:  92% (78/84)\u001b[K\rremote: Compressing objects:  94% (79/84)\u001b[K\rremote: Compressing objects:  95% (80/84)\u001b[K\rremote: Compressing objects:  96% (81/84)\u001b[K\rremote: Compressing objects:  97% (82/84)\u001b[K\rremote: Compressing objects:  98% (83/84)\u001b[K\rremote: Compressing objects: 100% (84/84)\u001b[K\rremote: Compressing objects: 100% (84/84), done.\u001b[K\n",
            "Receiving objects:   0% (1/104)\rReceiving objects:   1% (2/104)\rReceiving objects:   2% (3/104)\rReceiving objects:   3% (4/104)\rReceiving objects:   4% (5/104)\rReceiving objects:   5% (6/104)\rReceiving objects:   6% (7/104)\rReceiving objects:   7% (8/104)\rReceiving objects:   8% (9/104)\rReceiving objects:   9% (10/104)\rReceiving objects:  10% (11/104)\rReceiving objects:  11% (12/104)\rReceiving objects:  12% (13/104)\rReceiving objects:  13% (14/104)\rReceiving objects:  14% (15/104)\rReceiving objects:  15% (16/104)\rReceiving objects:  16% (17/104)\rReceiving objects:  17% (18/104)\rReceiving objects:  18% (19/104)\rReceiving objects:  19% (20/104)\rReceiving objects:  20% (21/104)\rReceiving objects:  21% (22/104)\rReceiving objects:  22% (23/104)\rReceiving objects:  23% (24/104)\rReceiving objects:  24% (25/104)\rReceiving objects:  25% (26/104)\rReceiving objects:  26% (28/104)\rReceiving objects:  27% (29/104)\rReceiving objects:  28% (30/104)\rReceiving objects:  29% (31/104)\rReceiving objects:  30% (32/104)\rReceiving objects:  31% (33/104)\rReceiving objects:  32% (34/104)\rReceiving objects:  33% (35/104)\rReceiving objects:  34% (36/104)\rReceiving objects:  35% (37/104)\rReceiving objects:  36% (38/104)\rReceiving objects:  37% (39/104)\rReceiving objects:  38% (40/104)\rReceiving objects:  39% (41/104)\rReceiving objects:  40% (42/104)\rReceiving objects:  41% (43/104)\rReceiving objects:  42% (44/104)\rReceiving objects:  43% (45/104)\rReceiving objects:  44% (46/104)\rReceiving objects:  45% (47/104)\rReceiving objects:  46% (48/104)\rReceiving objects:  47% (49/104)\rremote: Total 104 (delta 41), reused 52 (delta 14), pack-reused 0 (from 0)\u001b[K\n",
            "Receiving objects:  48% (50/104)\rReceiving objects:  49% (51/104)\rReceiving objects:  50% (52/104)\rReceiving objects:  51% (54/104)\rReceiving objects:  52% (55/104)\rReceiving objects:  53% (56/104)\rReceiving objects:  54% (57/104)\rReceiving objects:  55% (58/104)\rReceiving objects:  56% (59/104)\rReceiving objects:  57% (60/104)\rReceiving objects:  58% (61/104)\rReceiving objects:  59% (62/104)\rReceiving objects:  60% (63/104)\rReceiving objects:  61% (64/104)\rReceiving objects:  62% (65/104)\rReceiving objects:  63% (66/104)\rReceiving objects:  64% (67/104)\rReceiving objects:  65% (68/104)\rReceiving objects:  66% (69/104)\rReceiving objects:  67% (70/104)\rReceiving objects:  68% (71/104)\rReceiving objects:  69% (72/104)\rReceiving objects:  70% (73/104)\rReceiving objects:  71% (74/104)\rReceiving objects:  72% (75/104)\rReceiving objects:  73% (76/104)\rReceiving objects:  74% (77/104)\rReceiving objects:  75% (78/104)\rReceiving objects:  76% (80/104)\rReceiving objects:  77% (81/104)\rReceiving objects:  78% (82/104)\rReceiving objects:  79% (83/104)\rReceiving objects:  80% (84/104)\rReceiving objects:  81% (85/104)\rReceiving objects:  82% (86/104)\rReceiving objects:  83% (87/104)\rReceiving objects:  84% (88/104)\rReceiving objects:  85% (89/104)\rReceiving objects:  86% (90/104)\rReceiving objects:  87% (91/104)\rReceiving objects:  88% (92/104)\rReceiving objects:  89% (93/104)\rReceiving objects:  90% (94/104)\rReceiving objects:  91% (95/104)\rReceiving objects:  92% (96/104)\rReceiving objects:  93% (97/104)\rReceiving objects:  94% (98/104)\rReceiving objects:  95% (99/104)\rReceiving objects:  96% (100/104)\rReceiving objects:  97% (101/104)\rReceiving objects:  98% (102/104)\rReceiving objects:  99% (103/104)\rReceiving objects: 100% (104/104)\rReceiving objects: 100% (104/104), 115.28 KiB | 8.23 MiB/s, done.\n",
            "Resolving deltas:   0% (0/41)\rResolving deltas:   2% (1/41)\rResolving deltas:   4% (2/41)\rResolving deltas:   7% (3/41)\rResolving deltas:   9% (4/41)\rResolving deltas:  12% (5/41)\rResolving deltas:  14% (6/41)\rResolving deltas:  17% (7/41)\rResolving deltas:  19% (8/41)\rResolving deltas:  21% (9/41)\rResolving deltas:  24% (10/41)\rResolving deltas:  26% (11/41)\rResolving deltas:  29% (12/41)\rResolving deltas:  31% (13/41)\rResolving deltas:  34% (14/41)\rResolving deltas:  36% (15/41)\rResolving deltas:  39% (16/41)\rResolving deltas:  41% (17/41)\rResolving deltas:  43% (18/41)\rResolving deltas:  46% (19/41)\rResolving deltas:  48% (20/41)\rResolving deltas:  51% (21/41)\rResolving deltas:  53% (22/41)\rResolving deltas:  56% (23/41)\rResolving deltas:  58% (24/41)\rResolving deltas:  60% (25/41)\rResolving deltas:  63% (26/41)\rResolving deltas:  65% (27/41)\rResolving deltas:  68% (28/41)\rResolving deltas:  70% (29/41)\rResolving deltas:  73% (30/41)\rResolving deltas:  75% (31/41)\rResolving deltas:  78% (32/41)\rResolving deltas:  80% (33/41)\rResolving deltas:  82% (34/41)\rResolving deltas:  85% (35/41)\rResolving deltas:  87% (36/41)\rResolving deltas:  90% (37/41)\rResolving deltas:  92% (38/41)\rResolving deltas:  95% (39/41)\rResolving deltas:  97% (40/41)\rResolving deltas: 100% (41/41)\rResolving deltas: 100% (41/41), done.\n",
            "Perceptron loaded ✅\n"
          ]
        }
      ],
      "source": [
        "# Step 1: Clone your GitHub repo\n",
        "!rm -rf INDE577_ML_Rice_2025\n",
        "!git clone https://github.com/alicewang777/INDE577_ML_Rice_2025.git\n",
        "\n",
        "# Step 2: Add the package path to sys.path\n",
        "import sys\n",
        "sys.path.append('/content/INDE577_ML_Rice_2025')\n",
        "\n",
        "# Step 3: Try importing your model\n",
        "from rice_ml.perceptron import Perceptron\n",
        "\n",
        "# Step 4: Confirm it's working\n",
        "print(\"Perceptron loaded ✅\")"
      ]
    },
    {
      "cell_type": "markdown",
      "source": [],
      "metadata": {
        "id": "kvhTwYB7mTLS"
      }
    },
    {
      "cell_type": "code",
      "source": [
        "from google.colab import drive\n",
        "drive.mount('/content/drive')"
      ],
      "metadata": {
        "id": "sJG7vNGzZj9G",
        "colab": {
          "base_uri": "https://localhost:8080/"
        },
        "outputId": "6f3900fd-ca09-4c49-a622-b2e7171fa980"
      },
      "execution_count": 5,
      "outputs": [
        {
          "output_type": "stream",
          "name": "stdout",
          "text": [
            "Drive already mounted at /content/drive; to attempt to forcibly remount, call drive.mount(\"/content/drive\", force_remount=True).\n"
          ]
        }
      ]
    },
    {
      "cell_type": "code",
      "source": [
        "import pandas as pd\n",
        "\n",
        "\n",
        "csv_path = \"/content/drive/MyDrive/Colab Notebooks/ML_Rice_2025_Final_Project/uber.csv\"\n",
        "\n",
        "df = pd.read_csv(csv_path)\n",
        "df.head()"
      ],
      "metadata": {
        "id": "tQPWsUxzZj_a",
        "colab": {
          "base_uri": "https://localhost:8080/",
          "height": 206
        },
        "outputId": "01a69d1f-8019-4b42-83a2-236e3de7318f"
      },
      "execution_count": 6,
      "outputs": [
        {
          "output_type": "execute_result",
          "data": {
            "text/plain": [
              "   Unnamed: 0                            key  fare_amount  \\\n",
              "0    24238194    2015-05-07 19:52:06.0000003          7.5   \n",
              "1    27835199    2009-07-17 20:04:56.0000002          7.7   \n",
              "2    44984355   2009-08-24 21:45:00.00000061         12.9   \n",
              "3    25894730    2009-06-26 08:22:21.0000001          5.3   \n",
              "4    17610152  2014-08-28 17:47:00.000000188         16.0   \n",
              "\n",
              "           pickup_datetime  pickup_longitude  pickup_latitude  \\\n",
              "0  2015-05-07 19:52:06 UTC        -73.999817        40.738354   \n",
              "1  2009-07-17 20:04:56 UTC        -73.994355        40.728225   \n",
              "2  2009-08-24 21:45:00 UTC        -74.005043        40.740770   \n",
              "3  2009-06-26 08:22:21 UTC        -73.976124        40.790844   \n",
              "4  2014-08-28 17:47:00 UTC        -73.925023        40.744085   \n",
              "\n",
              "   dropoff_longitude  dropoff_latitude  passenger_count  \n",
              "0         -73.999512         40.723217                1  \n",
              "1         -73.994710         40.750325                1  \n",
              "2         -73.962565         40.772647                1  \n",
              "3         -73.965316         40.803349                3  \n",
              "4         -73.973082         40.761247                5  "
            ],
            "text/html": [
              "\n",
              "  <div id=\"df-bc09bce5-4a39-4e18-9570-65fd76861903\" class=\"colab-df-container\">\n",
              "    <div>\n",
              "<style scoped>\n",
              "    .dataframe tbody tr th:only-of-type {\n",
              "        vertical-align: middle;\n",
              "    }\n",
              "\n",
              "    .dataframe tbody tr th {\n",
              "        vertical-align: top;\n",
              "    }\n",
              "\n",
              "    .dataframe thead th {\n",
              "        text-align: right;\n",
              "    }\n",
              "</style>\n",
              "<table border=\"1\" class=\"dataframe\">\n",
              "  <thead>\n",
              "    <tr style=\"text-align: right;\">\n",
              "      <th></th>\n",
              "      <th>Unnamed: 0</th>\n",
              "      <th>key</th>\n",
              "      <th>fare_amount</th>\n",
              "      <th>pickup_datetime</th>\n",
              "      <th>pickup_longitude</th>\n",
              "      <th>pickup_latitude</th>\n",
              "      <th>dropoff_longitude</th>\n",
              "      <th>dropoff_latitude</th>\n",
              "      <th>passenger_count</th>\n",
              "    </tr>\n",
              "  </thead>\n",
              "  <tbody>\n",
              "    <tr>\n",
              "      <th>0</th>\n",
              "      <td>24238194</td>\n",
              "      <td>2015-05-07 19:52:06.0000003</td>\n",
              "      <td>7.5</td>\n",
              "      <td>2015-05-07 19:52:06 UTC</td>\n",
              "      <td>-73.999817</td>\n",
              "      <td>40.738354</td>\n",
              "      <td>-73.999512</td>\n",
              "      <td>40.723217</td>\n",
              "      <td>1</td>\n",
              "    </tr>\n",
              "    <tr>\n",
              "      <th>1</th>\n",
              "      <td>27835199</td>\n",
              "      <td>2009-07-17 20:04:56.0000002</td>\n",
              "      <td>7.7</td>\n",
              "      <td>2009-07-17 20:04:56 UTC</td>\n",
              "      <td>-73.994355</td>\n",
              "      <td>40.728225</td>\n",
              "      <td>-73.994710</td>\n",
              "      <td>40.750325</td>\n",
              "      <td>1</td>\n",
              "    </tr>\n",
              "    <tr>\n",
              "      <th>2</th>\n",
              "      <td>44984355</td>\n",
              "      <td>2009-08-24 21:45:00.00000061</td>\n",
              "      <td>12.9</td>\n",
              "      <td>2009-08-24 21:45:00 UTC</td>\n",
              "      <td>-74.005043</td>\n",
              "      <td>40.740770</td>\n",
              "      <td>-73.962565</td>\n",
              "      <td>40.772647</td>\n",
              "      <td>1</td>\n",
              "    </tr>\n",
              "    <tr>\n",
              "      <th>3</th>\n",
              "      <td>25894730</td>\n",
              "      <td>2009-06-26 08:22:21.0000001</td>\n",
              "      <td>5.3</td>\n",
              "      <td>2009-06-26 08:22:21 UTC</td>\n",
              "      <td>-73.976124</td>\n",
              "      <td>40.790844</td>\n",
              "      <td>-73.965316</td>\n",
              "      <td>40.803349</td>\n",
              "      <td>3</td>\n",
              "    </tr>\n",
              "    <tr>\n",
              "      <th>4</th>\n",
              "      <td>17610152</td>\n",
              "      <td>2014-08-28 17:47:00.000000188</td>\n",
              "      <td>16.0</td>\n",
              "      <td>2014-08-28 17:47:00 UTC</td>\n",
              "      <td>-73.925023</td>\n",
              "      <td>40.744085</td>\n",
              "      <td>-73.973082</td>\n",
              "      <td>40.761247</td>\n",
              "      <td>5</td>\n",
              "    </tr>\n",
              "  </tbody>\n",
              "</table>\n",
              "</div>\n",
              "    <div class=\"colab-df-buttons\">\n",
              "\n",
              "  <div class=\"colab-df-container\">\n",
              "    <button class=\"colab-df-convert\" onclick=\"convertToInteractive('df-bc09bce5-4a39-4e18-9570-65fd76861903')\"\n",
              "            title=\"Convert this dataframe to an interactive table.\"\n",
              "            style=\"display:none;\">\n",
              "\n",
              "  <svg xmlns=\"http://www.w3.org/2000/svg\" height=\"24px\" viewBox=\"0 -960 960 960\">\n",
              "    <path d=\"M120-120v-720h720v720H120Zm60-500h600v-160H180v160Zm220 220h160v-160H400v160Zm0 220h160v-160H400v160ZM180-400h160v-160H180v160Zm440 0h160v-160H620v160ZM180-180h160v-160H180v160Zm440 0h160v-160H620v160Z\"/>\n",
              "  </svg>\n",
              "    </button>\n",
              "\n",
              "  <style>\n",
              "    .colab-df-container {\n",
              "      display:flex;\n",
              "      gap: 12px;\n",
              "    }\n",
              "\n",
              "    .colab-df-convert {\n",
              "      background-color: #E8F0FE;\n",
              "      border: none;\n",
              "      border-radius: 50%;\n",
              "      cursor: pointer;\n",
              "      display: none;\n",
              "      fill: #1967D2;\n",
              "      height: 32px;\n",
              "      padding: 0 0 0 0;\n",
              "      width: 32px;\n",
              "    }\n",
              "\n",
              "    .colab-df-convert:hover {\n",
              "      background-color: #E2EBFA;\n",
              "      box-shadow: 0px 1px 2px rgba(60, 64, 67, 0.3), 0px 1px 3px 1px rgba(60, 64, 67, 0.15);\n",
              "      fill: #174EA6;\n",
              "    }\n",
              "\n",
              "    .colab-df-buttons div {\n",
              "      margin-bottom: 4px;\n",
              "    }\n",
              "\n",
              "    [theme=dark] .colab-df-convert {\n",
              "      background-color: #3B4455;\n",
              "      fill: #D2E3FC;\n",
              "    }\n",
              "\n",
              "    [theme=dark] .colab-df-convert:hover {\n",
              "      background-color: #434B5C;\n",
              "      box-shadow: 0px 1px 3px 1px rgba(0, 0, 0, 0.15);\n",
              "      filter: drop-shadow(0px 1px 2px rgba(0, 0, 0, 0.3));\n",
              "      fill: #FFFFFF;\n",
              "    }\n",
              "  </style>\n",
              "\n",
              "    <script>\n",
              "      const buttonEl =\n",
              "        document.querySelector('#df-bc09bce5-4a39-4e18-9570-65fd76861903 button.colab-df-convert');\n",
              "      buttonEl.style.display =\n",
              "        google.colab.kernel.accessAllowed ? 'block' : 'none';\n",
              "\n",
              "      async function convertToInteractive(key) {\n",
              "        const element = document.querySelector('#df-bc09bce5-4a39-4e18-9570-65fd76861903');\n",
              "        const dataTable =\n",
              "          await google.colab.kernel.invokeFunction('convertToInteractive',\n",
              "                                                    [key], {});\n",
              "        if (!dataTable) return;\n",
              "\n",
              "        const docLinkHtml = 'Like what you see? Visit the ' +\n",
              "          '<a target=\"_blank\" href=https://colab.research.google.com/notebooks/data_table.ipynb>data table notebook</a>'\n",
              "          + ' to learn more about interactive tables.';\n",
              "        element.innerHTML = '';\n",
              "        dataTable['output_type'] = 'display_data';\n",
              "        await google.colab.output.renderOutput(dataTable, element);\n",
              "        const docLink = document.createElement('div');\n",
              "        docLink.innerHTML = docLinkHtml;\n",
              "        element.appendChild(docLink);\n",
              "      }\n",
              "    </script>\n",
              "  </div>\n",
              "\n",
              "\n",
              "    <div id=\"df-73ec1e39-1066-462f-81c3-8db1a01cff38\">\n",
              "      <button class=\"colab-df-quickchart\" onclick=\"quickchart('df-73ec1e39-1066-462f-81c3-8db1a01cff38')\"\n",
              "                title=\"Suggest charts\"\n",
              "                style=\"display:none;\">\n",
              "\n",
              "<svg xmlns=\"http://www.w3.org/2000/svg\" height=\"24px\"viewBox=\"0 0 24 24\"\n",
              "     width=\"24px\">\n",
              "    <g>\n",
              "        <path d=\"M19 3H5c-1.1 0-2 .9-2 2v14c0 1.1.9 2 2 2h14c1.1 0 2-.9 2-2V5c0-1.1-.9-2-2-2zM9 17H7v-7h2v7zm4 0h-2V7h2v10zm4 0h-2v-4h2v4z\"/>\n",
              "    </g>\n",
              "</svg>\n",
              "      </button>\n",
              "\n",
              "<style>\n",
              "  .colab-df-quickchart {\n",
              "      --bg-color: #E8F0FE;\n",
              "      --fill-color: #1967D2;\n",
              "      --hover-bg-color: #E2EBFA;\n",
              "      --hover-fill-color: #174EA6;\n",
              "      --disabled-fill-color: #AAA;\n",
              "      --disabled-bg-color: #DDD;\n",
              "  }\n",
              "\n",
              "  [theme=dark] .colab-df-quickchart {\n",
              "      --bg-color: #3B4455;\n",
              "      --fill-color: #D2E3FC;\n",
              "      --hover-bg-color: #434B5C;\n",
              "      --hover-fill-color: #FFFFFF;\n",
              "      --disabled-bg-color: #3B4455;\n",
              "      --disabled-fill-color: #666;\n",
              "  }\n",
              "\n",
              "  .colab-df-quickchart {\n",
              "    background-color: var(--bg-color);\n",
              "    border: none;\n",
              "    border-radius: 50%;\n",
              "    cursor: pointer;\n",
              "    display: none;\n",
              "    fill: var(--fill-color);\n",
              "    height: 32px;\n",
              "    padding: 0;\n",
              "    width: 32px;\n",
              "  }\n",
              "\n",
              "  .colab-df-quickchart:hover {\n",
              "    background-color: var(--hover-bg-color);\n",
              "    box-shadow: 0 1px 2px rgba(60, 64, 67, 0.3), 0 1px 3px 1px rgba(60, 64, 67, 0.15);\n",
              "    fill: var(--button-hover-fill-color);\n",
              "  }\n",
              "\n",
              "  .colab-df-quickchart-complete:disabled,\n",
              "  .colab-df-quickchart-complete:disabled:hover {\n",
              "    background-color: var(--disabled-bg-color);\n",
              "    fill: var(--disabled-fill-color);\n",
              "    box-shadow: none;\n",
              "  }\n",
              "\n",
              "  .colab-df-spinner {\n",
              "    border: 2px solid var(--fill-color);\n",
              "    border-color: transparent;\n",
              "    border-bottom-color: var(--fill-color);\n",
              "    animation:\n",
              "      spin 1s steps(1) infinite;\n",
              "  }\n",
              "\n",
              "  @keyframes spin {\n",
              "    0% {\n",
              "      border-color: transparent;\n",
              "      border-bottom-color: var(--fill-color);\n",
              "      border-left-color: var(--fill-color);\n",
              "    }\n",
              "    20% {\n",
              "      border-color: transparent;\n",
              "      border-left-color: var(--fill-color);\n",
              "      border-top-color: var(--fill-color);\n",
              "    }\n",
              "    30% {\n",
              "      border-color: transparent;\n",
              "      border-left-color: var(--fill-color);\n",
              "      border-top-color: var(--fill-color);\n",
              "      border-right-color: var(--fill-color);\n",
              "    }\n",
              "    40% {\n",
              "      border-color: transparent;\n",
              "      border-right-color: var(--fill-color);\n",
              "      border-top-color: var(--fill-color);\n",
              "    }\n",
              "    60% {\n",
              "      border-color: transparent;\n",
              "      border-right-color: var(--fill-color);\n",
              "    }\n",
              "    80% {\n",
              "      border-color: transparent;\n",
              "      border-right-color: var(--fill-color);\n",
              "      border-bottom-color: var(--fill-color);\n",
              "    }\n",
              "    90% {\n",
              "      border-color: transparent;\n",
              "      border-bottom-color: var(--fill-color);\n",
              "    }\n",
              "  }\n",
              "</style>\n",
              "\n",
              "      <script>\n",
              "        async function quickchart(key) {\n",
              "          const quickchartButtonEl =\n",
              "            document.querySelector('#' + key + ' button');\n",
              "          quickchartButtonEl.disabled = true;  // To prevent multiple clicks.\n",
              "          quickchartButtonEl.classList.add('colab-df-spinner');\n",
              "          try {\n",
              "            const charts = await google.colab.kernel.invokeFunction(\n",
              "                'suggestCharts', [key], {});\n",
              "          } catch (error) {\n",
              "            console.error('Error during call to suggestCharts:', error);\n",
              "          }\n",
              "          quickchartButtonEl.classList.remove('colab-df-spinner');\n",
              "          quickchartButtonEl.classList.add('colab-df-quickchart-complete');\n",
              "        }\n",
              "        (() => {\n",
              "          let quickchartButtonEl =\n",
              "            document.querySelector('#df-73ec1e39-1066-462f-81c3-8db1a01cff38 button');\n",
              "          quickchartButtonEl.style.display =\n",
              "            google.colab.kernel.accessAllowed ? 'block' : 'none';\n",
              "        })();\n",
              "      </script>\n",
              "    </div>\n",
              "\n",
              "    </div>\n",
              "  </div>\n"
            ],
            "application/vnd.google.colaboratory.intrinsic+json": {
              "type": "dataframe",
              "variable_name": "df"
            }
          },
          "metadata": {},
          "execution_count": 6
        }
      ]
    },
    {
      "cell_type": "code",
      "source": [
        "df = df[(df['pickup_longitude'] != 0) & (df['dropoff_longitude'] != 0)]\n",
        "df = df.dropna()\n"
      ],
      "metadata": {
        "id": "Upj_F2tSZkBv"
      },
      "execution_count": 7,
      "outputs": []
    },
    {
      "cell_type": "code",
      "source": [
        "df['pickup_datetime'] = pd.to_datetime(df['pickup_datetime'], errors='coerce')\n",
        "df['hour'] = df['pickup_datetime'].dt.hour"
      ],
      "metadata": {
        "id": "7lTblSxcZkEQ"
      },
      "execution_count": 8,
      "outputs": []
    },
    {
      "cell_type": "code",
      "source": [
        "features = ['pickup_longitude', 'pickup_latitude', 'dropoff_longitude', 'dropoff_latitude', 'passenger_count', 'hour']\n",
        "X = df[features].values\n",
        "y = df['fare_amount'].values\n"
      ],
      "metadata": {
        "id": "UcSyKCEDi_lx"
      },
      "execution_count": 9,
      "outputs": []
    },
    {
      "cell_type": "code",
      "source": [
        "from sklearn.model_selection import train_test_split\n",
        "X_train, X_test, y_train, y_test = train_test_split(X, y, test_size=0.2, random_state=42)\n"
      ],
      "metadata": {
        "id": "duFA3KDdi_oI"
      },
      "execution_count": 10,
      "outputs": []
    },
    {
      "cell_type": "code",
      "source": [
        "# Binary classification label: 1 for high fare, 0 for others\n",
        "df = df[(df['pickup_longitude'] != 0) & (df['dropoff_longitude'] != 0)]\n",
        "df['pickup_datetime'] = pd.to_datetime(df['pickup_datetime'], errors='coerce')\n",
        "df = df.dropna()\n",
        "df['hour'] = df['pickup_datetime'].dt.hour\n",
        "\n",
        "df = df[df['fare_amount'] < 100]  # Remove extreme high fare outliers\n",
        "df['label'] = (df['fare_amount'] > 20).astype(int)\n"
      ],
      "metadata": {
        "id": "Gai-fG6ii_qZ"
      },
      "execution_count": 11,
      "outputs": []
    },
    {
      "cell_type": "code",
      "source": [
        "from sklearn.model_selection import train_test_split\n",
        "\n",
        "# Sample 5000 rows to speed up training\n",
        "df = df.sample(n=5000, random_state=42)\n",
        "\n",
        "features = ['pickup_longitude', 'pickup_latitude', 'dropoff_longitude', 'dropoff_latitude', 'passenger_count', 'hour']\n",
        "X = df[features].values\n",
        "y = df['label'].values\n",
        "\n",
        "X_train, X_test, y_train, y_test = train_test_split(X, y, test_size=0.2, random_state=42)\n"
      ],
      "metadata": {
        "id": "iHr6CVlki_s6"
      },
      "execution_count": 14,
      "outputs": []
    },
    {
      "cell_type": "code",
      "source": [
        "# Import the Perceptron model and accuracy metric from your rice_ml package\n",
        "from rice_ml.perceptron import Perceptron\n",
        "from rice_ml.metrics import accuracy\n",
        "\n",
        "# Initialize the Perceptron model with learning rate and number of training iterations\n",
        "model = Perceptron(learning_rate=0.001, n_iters=1000)\n",
        "\n",
        "# Train the model on the training data\n",
        "model.fit(X_train, y_train)\n",
        "\n",
        "# Predict the labels for the test data\n",
        "y_pred = model.predict(X_test)\n",
        "\n",
        "# Calculate and print the accuracy score on the test set\n",
        "acc = accuracy(y_test, y_pred)\n",
        "print(f\"Test Accuracy: {acc:.4f}\")"
      ],
      "metadata": {
        "colab": {
          "base_uri": "https://localhost:8080/"
        },
        "id": "nx1OfA8Ni_vZ",
        "outputId": "c03b3b67-e4e3-4d26-c9ed-25dd02223a4d"
      },
      "execution_count": 15,
      "outputs": [
        {
          "output_type": "stream",
          "name": "stdout",
          "text": [
            "Test Accuracy: 0.9000\n"
          ]
        }
      ]
    },
    {
      "cell_type": "code",
      "source": [],
      "metadata": {
        "id": "pY_dywGJi_x6"
      },
      "execution_count": null,
      "outputs": []
    }
  ]
}